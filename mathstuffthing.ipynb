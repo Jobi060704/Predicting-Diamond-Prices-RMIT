{
 "cells": [
  {
   "cell_type": "markdown",
   "metadata": {},
   "source": [
    "# Predicting Diamond Prices\n",
    "## Phase 1: Data Preparation & Visualisation"
   ]
  },
  {
   "cell_type": "markdown",
   "metadata": {},
   "source": [
    "#### Group Number: Group 57\n",
    "\n",
    "#### Name(s) & ID(s) of Group Members: \n",
    "- Eddie Ton (s3948609)\n",
    "- Jabbar Baloghlan (s3890406)\n",
    "-\n",
    "-\n",
    "-"
   ]
  },
  {
   "cell_type": "markdown",
   "metadata": {},
   "source": [
    "## Table of Contents\n",
    "* [Introduction](#itr) \n",
    "  + [Dataset Source](#Dataset-Source)\n",
    "  + [Dataset Details](#Dataset-Details)\n",
    "  + [Dataset Features](#Dataset-Features)\n",
    "  + [Target Feature](#Target-Feature)\n",
    "* [Goals and Objectives](#Goals-and-Objectives)\n",
    "* [Data Cleaning and Preprocessing](#Data-Cleaning-and-Preprocessing)\n",
    "* [Data Exploration and Visualisation](#Data-Exploration-and-Visualisation)\n",
    "* [Summary and Conclusion](#Summary-and-Conclusion)\n",
    "* [References](#References)"
   ]
  },
  {
   "cell_type": "markdown",
   "metadata": {},
   "source": [
    "## Introduction <a id='itr'></a>"
   ]
  },
  {
   "cell_type": "markdown",
   "metadata": {},
   "source": [
    "### Dataset source"
   ]
  },
  {
   "cell_type": "markdown",
   "metadata": {},
   "source": [
    "The Diamond dataset used in study was sourced from Kaggle (Shivam Agrawal, 2021). This dataset contains various details and properties of diamonds."
   ]
  }
 ],
 "metadata": {
  "colab": {
   "collapsed_sections": [],
   "provenance": []
  },
  "kernelspec": {
   "display_name": "Python 3.9.12 ('base')",
   "language": "python",
   "name": "python3"
  },
  "language_info": {
   "codemirror_mode": {
    "name": "ipython",
    "version": 3
   },
   "file_extension": ".py",
   "mimetype": "text/x-python",
   "name": "python",
   "nbconvert_exporter": "python",
   "pygments_lexer": "ipython3",
   "version": "3.9.12"
  },
  "vscode": {
   "interpreter": {
    "hash": "ca4daa456bdb90d71576850cf35a57821d28fe4fae1025db71d286b051147a28"
   }
  }
 },
 "nbformat": 4,
 "nbformat_minor": 1
}
