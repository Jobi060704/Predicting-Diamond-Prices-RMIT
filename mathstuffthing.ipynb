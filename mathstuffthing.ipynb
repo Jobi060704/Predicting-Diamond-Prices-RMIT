{
 "cells": [
  {
   "cell_type": "markdown",
   "metadata": {},
   "source": [
    "# Predicting Diamond Prices\n",
    "## Phase 1: Data Preparation & Visualisation"
   ]
  },
  {
   "cell_type": "markdown",
   "metadata": {},
   "source": [
    "#### Group Number: Group 57\n",
    "\n",
    "#### Name(s) & ID(s) of Group Members: \n",
    "- Eddie Ton (s3948609)\n",
    "- Jabbar Baloghlan (s3890406)\n",
    "- Tyler Xia (s3945694)"
   ]
  },
  {
   "cell_type": "markdown",
   "metadata": {},
   "source": [
    "## Table of Contents\n",
    "* [Introduction](#itr) \n",
    "  + [Dataset Source](#Dataset-Source)\n",
    "  + [Dataset Details](#Dataset-Details)\n",
    "  + [Dataset Features](#Dataset-Features)\n",
    "  + [Target Feature](#Target-Feature)\n",
    "* [Goals and Objectives](#Goals-and-Objectives)\n",
    "* [Data Cleaning and Preprocessing](#Data-Cleaning-and-Preprocessing)\n",
    "* [Data Exploration and Visualisation](#Data-Exploration-and-Visualisation)\n",
    "* [Summary and Conclusion](#Summary-and-Conclusion)\n",
    "* [References](#References)"
   ]
  },
  {
   "cell_type": "markdown",
   "metadata": {},
   "source": [
    "## Introduction"
   ]
  },
  {
   "cell_type": "markdown",
   "metadata": {},
   "source": [
    "### Dataset Source"
   ]
  },
  {
   "cell_type": "markdown",
   "metadata": {},
   "source": [
    "The Diamond dataset used in study was sourced from Kaggle (Shivam Agrawal, 2021). This dataset contains various details and properties of diamonds."
   ]
  },
  {
   "cell_type": "markdown",
   "metadata": {},
   "source": [
    "### Dataset Details"
   ]
  },
  {
   "cell_type": "markdown",
   "metadata": {},
   "source": [
    "The dataset contains information about the carat, size, quality, colour and the price of a diamond. It also includes information on the depth to the middle, the table - which is the largest surface area on the diamond, commonly on the top as well as the width, length, and height of a diamond."
   ]
  },
  {
   "cell_type": "code",
   "execution_count": 15,
   "metadata": {},
   "outputs": [],
   "source": [
    "import warnings\n",
    "warnings.filterwarnings(\"ignore\")\n",
    "\n",
    "import numpy as np\n",
    "import pandas as pd\n",
    "import io\n",
    "import requests\n",
    "\n",
    "pd.set_option('display.max_columns', None) \n",
    "\n",
    "###\n",
    "import matplotlib.pyplot as plt\n",
    "import seaborn as sns\n",
    "%matplotlib inline \n",
    "%config InlineBackend.figure_format = 'retina'\n",
    "plt.style.use(\"seaborn\")\n",
    "###"
   ]
  },
  {
   "cell_type": "code",
   "execution_count": 21,
   "metadata": {},
   "outputs": [],
   "source": [
    "# name of the dataset to be imported from our GitHub account\n",
    "df_name = 'diamonds.csv'\n",
    "df_url = 'https://raw.githubusercontent.com/Jobi060704/math_files/main/' + df_name\n",
    "url_content = requests.get(df_url, verify=False).content\n",
    "diamond_df = pd.read_csv(io.StringIO(url_content.decode('utf-8')))"
   ]
  },
  {
   "cell_type": "code",
   "execution_count": 24,
   "metadata": {},
   "outputs": [
    {
     "data": {
      "text/html": [
       "<div>\n",
       "<style scoped>\n",
       "    .dataframe tbody tr th:only-of-type {\n",
       "        vertical-align: middle;\n",
       "    }\n",
       "\n",
       "    .dataframe tbody tr th {\n",
       "        vertical-align: top;\n",
       "    }\n",
       "\n",
       "    .dataframe thead th {\n",
       "        text-align: right;\n",
       "    }\n",
       "</style>\n",
       "<table border=\"1\" class=\"dataframe\">\n",
       "  <thead>\n",
       "    <tr style=\"text-align: right;\">\n",
       "      <th></th>\n",
       "      <th>carat</th>\n",
       "      <th>cut</th>\n",
       "      <th>color</th>\n",
       "      <th>clarity</th>\n",
       "      <th>depth</th>\n",
       "      <th>table</th>\n",
       "      <th>price</th>\n",
       "      <th>x</th>\n",
       "      <th>y</th>\n",
       "      <th>z</th>\n",
       "    </tr>\n",
       "  </thead>\n",
       "  <tbody>\n",
       "    <tr>\n",
       "      <th>42653</th>\n",
       "      <td>0.40</td>\n",
       "      <td>Premium</td>\n",
       "      <td>G</td>\n",
       "      <td>IF</td>\n",
       "      <td>60.8</td>\n",
       "      <td>58.0</td>\n",
       "      <td>1333</td>\n",
       "      <td>4.73</td>\n",
       "      <td>4.77</td>\n",
       "      <td>2.89</td>\n",
       "    </tr>\n",
       "    <tr>\n",
       "      <th>4069</th>\n",
       "      <td>0.31</td>\n",
       "      <td>Very Good</td>\n",
       "      <td>D</td>\n",
       "      <td>SI1</td>\n",
       "      <td>63.0</td>\n",
       "      <td>55.0</td>\n",
       "      <td>571</td>\n",
       "      <td>4.32</td>\n",
       "      <td>4.34</td>\n",
       "      <td>2.73</td>\n",
       "    </tr>\n",
       "    <tr>\n",
       "      <th>27580</th>\n",
       "      <td>1.60</td>\n",
       "      <td>Ideal</td>\n",
       "      <td>F</td>\n",
       "      <td>VS2</td>\n",
       "      <td>62.0</td>\n",
       "      <td>55.0</td>\n",
       "      <td>18421</td>\n",
       "      <td>7.49</td>\n",
       "      <td>7.54</td>\n",
       "      <td>4.66</td>\n",
       "    </tr>\n",
       "    <tr>\n",
       "      <th>33605</th>\n",
       "      <td>0.31</td>\n",
       "      <td>Good</td>\n",
       "      <td>D</td>\n",
       "      <td>SI2</td>\n",
       "      <td>63.1</td>\n",
       "      <td>54.0</td>\n",
       "      <td>462</td>\n",
       "      <td>4.33</td>\n",
       "      <td>4.38</td>\n",
       "      <td>2.75</td>\n",
       "    </tr>\n",
       "    <tr>\n",
       "      <th>34415</th>\n",
       "      <td>0.30</td>\n",
       "      <td>Ideal</td>\n",
       "      <td>G</td>\n",
       "      <td>IF</td>\n",
       "      <td>61.2</td>\n",
       "      <td>57.0</td>\n",
       "      <td>863</td>\n",
       "      <td>4.35</td>\n",
       "      <td>4.38</td>\n",
       "      <td>2.67</td>\n",
       "    </tr>\n",
       "    <tr>\n",
       "      <th>46932</th>\n",
       "      <td>0.52</td>\n",
       "      <td>Premium</td>\n",
       "      <td>G</td>\n",
       "      <td>VS1</td>\n",
       "      <td>62.4</td>\n",
       "      <td>60.0</td>\n",
       "      <td>1815</td>\n",
       "      <td>5.12</td>\n",
       "      <td>5.11</td>\n",
       "      <td>3.19</td>\n",
       "    </tr>\n",
       "    <tr>\n",
       "      <th>52243</th>\n",
       "      <td>0.80</td>\n",
       "      <td>Very Good</td>\n",
       "      <td>J</td>\n",
       "      <td>VS1</td>\n",
       "      <td>62.7</td>\n",
       "      <td>58.0</td>\n",
       "      <td>2487</td>\n",
       "      <td>5.91</td>\n",
       "      <td>5.95</td>\n",
       "      <td>3.72</td>\n",
       "    </tr>\n",
       "    <tr>\n",
       "      <th>38855</th>\n",
       "      <td>0.40</td>\n",
       "      <td>Ideal</td>\n",
       "      <td>G</td>\n",
       "      <td>VVS2</td>\n",
       "      <td>62.4</td>\n",
       "      <td>56.0</td>\n",
       "      <td>1050</td>\n",
       "      <td>4.74</td>\n",
       "      <td>4.72</td>\n",
       "      <td>2.95</td>\n",
       "    </tr>\n",
       "    <tr>\n",
       "      <th>38362</th>\n",
       "      <td>0.33</td>\n",
       "      <td>Ideal</td>\n",
       "      <td>D</td>\n",
       "      <td>VVS2</td>\n",
       "      <td>61.1</td>\n",
       "      <td>56.0</td>\n",
       "      <td>1021</td>\n",
       "      <td>4.46</td>\n",
       "      <td>4.44</td>\n",
       "      <td>2.72</td>\n",
       "    </tr>\n",
       "    <tr>\n",
       "      <th>20258</th>\n",
       "      <td>1.72</td>\n",
       "      <td>Ideal</td>\n",
       "      <td>J</td>\n",
       "      <td>SI1</td>\n",
       "      <td>62.0</td>\n",
       "      <td>57.0</td>\n",
       "      <td>8688</td>\n",
       "      <td>7.66</td>\n",
       "      <td>7.62</td>\n",
       "      <td>4.74</td>\n",
       "    </tr>\n",
       "  </tbody>\n",
       "</table>\n",
       "</div>"
      ],
      "text/plain": [
       "       carat        cut color clarity  depth  table  price     x     y     z\n",
       "42653   0.40    Premium     G      IF   60.8   58.0   1333  4.73  4.77  2.89\n",
       "4069    0.31  Very Good     D     SI1   63.0   55.0    571  4.32  4.34  2.73\n",
       "27580   1.60      Ideal     F     VS2   62.0   55.0  18421  7.49  7.54  4.66\n",
       "33605   0.31       Good     D     SI2   63.1   54.0    462  4.33  4.38  2.75\n",
       "34415   0.30      Ideal     G      IF   61.2   57.0    863  4.35  4.38  2.67\n",
       "46932   0.52    Premium     G     VS1   62.4   60.0   1815  5.12  5.11  3.19\n",
       "52243   0.80  Very Good     J     VS1   62.7   58.0   2487  5.91  5.95  3.72\n",
       "38855   0.40      Ideal     G    VVS2   62.4   56.0   1050  4.74  4.72  2.95\n",
       "38362   0.33      Ideal     D    VVS2   61.1   56.0   1021  4.46  4.44  2.72\n",
       "20258   1.72      Ideal     J     SI1   62.0   57.0   8688  7.66  7.62  4.74"
      ]
     },
     "execution_count": 24,
     "metadata": {},
     "output_type": "execute_result"
    }
   ],
   "source": [
    "new_diamond_df = diamond_df.drop(columns=diamond_df.columns[0])\n",
    "new_diamond_df.sample(10, random_state=99)"
   ]
  },
  {
   "cell_type": "markdown",
   "metadata": {},
   "source": [
    "### Dataset Details"
   ]
  },
  {
   "cell_type": "markdown",
   "metadata": {},
   "source": [
    "The dataset is about diamonds, and any properties that can describe them up to date. Those include: dimensions(x,y,z), carats, color, depth, clarity, table, cut grade, and price. The variables seem suefficient to attempt and find relation between them and model interrelation to diamond pricing.\n",
    "\n",
    "The edited dataset has a total of 10 features and 5000 observations. Entries with no information have already been removed from the dataset. \n",
    "\n",
    "**Dataset Retrieval**\n",
    "\n",
    "- We read in the dataset from our GitHub repository and load the modules we will use throughout this report.\n",
    "- We display 10 randomly sampled rows from this dataset."
   ]
  },
  {
   "cell_type": "markdown",
   "metadata": {},
   "source": [
    "### Dataset Features"
   ]
  },
  {
   "cell_type": "markdown",
   "metadata": {},
   "source": [
    "The features in our dataset are described in the table below. These descriptions are taken from the Kaggle data source."
   ]
  },
  {
   "cell_type": "code",
   "execution_count": 5,
   "metadata": {},
   "outputs": [
    {
     "name": "stdout",
     "output_type": "stream",
     "text": [
      "╒════════════════╤═════════════════════╤══════════════╤═══════════════════════════════════════════════════════════════════════════════╕\n",
      "│ Name           │ Data Type           │ Units        │ Description                                                                   │\n",
      "╞════════════════╪═════════════════════╪══════════════╪═══════════════════════════════════════════════════════════════════════════════╡\n",
      "│ Suburb         │ Nominal categorical │ NA           │ Suburb of house sold                                                          │\n",
      "├────────────────┼─────────────────────┼──────────────┼───────────────────────────────────────────────────────────────────────────────┤\n",
      "│ Rooms          │ Numeric             │ NA           │ Number of rooms                                                               │\n",
      "├────────────────┼─────────────────────┼──────────────┼───────────────────────────────────────────────────────────────────────────────┤\n",
      "│ Type           │ Nominal categorical │ NA           │ br - bedroom(s); h - house, cottage, villa, semi, terrace;                    │\n",
      "│                │                     │              │ u - unit, duplex; t - townhouse; dev site - development site;                 │\n",
      "│                │                     │              │ o res - other residential.                                                    │\n",
      "├────────────────┼─────────────────────┼──────────────┼───────────────────────────────────────────────────────────────────────────────┤\n",
      "│ Price          │ Numeric             │ AUD          │ Price of house sold                                                           │\n",
      "├────────────────┼─────────────────────┼──────────────┼───────────────────────────────────────────────────────────────────────────────┤\n",
      "│ Method         │ Nominal categorical │ NA           │ S - property sold; SP - property sold prior;                                  │\n",
      "│                │                     │              │ PI - property passed in; PN - sold prior not disclosed; SN -                  │\n",
      "│                │                     │              │ sold not disclosed; NB - no bid; VB - vendor bid; W - withdrawn               │\n",
      "│                │                     │              │ prior to auction; SA - sold after auction; SS - sold after auction            │\n",
      "│                │                     │              │ price not disclosed. N/A - price or highest bid not available.                │\n",
      "├────────────────┼─────────────────────┼──────────────┼───────────────────────────────────────────────────────────────────────────────┤\n",
      "│ SellerG        │ Nominal categorical │ NA           │ Real estate agent                                                             │\n",
      "├────────────────┼─────────────────────┼──────────────┼───────────────────────────────────────────────────────────────────────────────┤\n",
      "│ Date           │ Date                │ dd/mm/yyyy   │ Date sold                                                                     │\n",
      "├────────────────┼─────────────────────┼──────────────┼───────────────────────────────────────────────────────────────────────────────┤\n",
      "│ Distance       │ Numeric             │ KM           │ Distance from Central Business District                                       │\n",
      "├────────────────┼─────────────────────┼──────────────┼───────────────────────────────────────────────────────────────────────────────┤\n",
      "│ Bathroom       │ Numeric             │ NA           │ Number of bathrooms                                                           │\n",
      "├────────────────┼─────────────────────┼──────────────┼───────────────────────────────────────────────────────────────────────────────┤\n",
      "│ Car            │ Numeric             │ NA           │ Number of carspots                                                            │\n",
      "├────────────────┼─────────────────────┼──────────────┼───────────────────────────────────────────────────────────────────────────────┤\n",
      "│ Landsize       │ Numeric             │ Square Meter │ Land size                                                                     │\n",
      "├────────────────┼─────────────────────┼──────────────┼───────────────────────────────────────────────────────────────────────────────┤\n",
      "│ Building area  │ Numeric             │ Square Meter │ Building size                                                                 │\n",
      "├────────────────┼─────────────────────┼──────────────┼───────────────────────────────────────────────────────────────────────────────┤\n",
      "│ Year built     │ Date                │ year         │ Year the house was built                                                      │\n",
      "├────────────────┼─────────────────────┼──────────────┼───────────────────────────────────────────────────────────────────────────────┤\n",
      "│ Council area   │ Nominal categorical │ NA           │ Governing council for the area                                                │\n",
      "├────────────────┼─────────────────────┼──────────────┼───────────────────────────────────────────────────────────────────────────────┤\n",
      "│ Lattitude      │ Numeric             │ Degree       │ Lattitude                                                                     │\n",
      "├────────────────┼─────────────────────┼──────────────┼───────────────────────────────────────────────────────────────────────────────┤\n",
      "│ Longtitude     │ Numeric             │ Degree       │ Longtitude                                                                    │\n",
      "├────────────────┼─────────────────────┼──────────────┼───────────────────────────────────────────────────────────────────────────────┤\n",
      "│ Region name    │ Nominal categorical │ NA           │ General Region (West, North West, etc)                                        │\n",
      "├────────────────┼─────────────────────┼──────────────┼───────────────────────────────────────────────────────────────────────────────┤\n",
      "│ Property count │ Numeric             │ NA           │ Number of properties that exist in the suburb                                 │\n",
      "╘════════════════╧═════════════════════╧══════════════╧═══════════════════════════════════════════════════════════════════════════════╛\n"
     ]
    }
   ],
   "source": [
    "from tabulate import tabulate\n",
    "\n",
    "table = [['Name','Data Type','Units','Description'],\n",
    "        ]\n",
    "\n",
    "print(tabulate(table, headers='firstrow', tablefmt='fancy_grid'))"
   ]
  },
  {
   "cell_type": "markdown",
   "metadata": {},
   "source": [
    "### Target Feature"
   ]
  },
  {
   "cell_type": "markdown",
   "metadata": {},
   "source": [
    "For this project, the target feature in this dataset will be the diamond price in Australian dollars. That is, the price of diamonds will be predicted based on the explanatory/ descriptive variables. "
   ]
  },
  {
   "cell_type": "markdown",
   "metadata": {},
   "source": [
    "## Goals and Objectives"
   ]
  },
  {
   "cell_type": "markdown",
   "metadata": {},
   "source": [
    "Diamond prices have a very complex calculation system. A model that could acurately predict/set diamond prices is absolutely a requirment. For instance, a jewelrer would need such a model to correctly state the properties of the diamonds after the work ahs been done. Similarly, a store selling diamons could use such a model to determine the price to sell the diamond at. \n",
    "\n",
    "Thus, the main objective of this project is two-fold: (1) predict the price of diamonds based on the publically available properties of diamonds available, and (2) which features seem to be the best predictors of the diamond sale price. A secondary objective is to perform some exploratory data analysis by basic descriptive statistics & data visualisation plots to gain some insight into the patterns and relationships existing in the data subsequent to some data cleaning & preprocessing, which is the subject of this Phase 1 report.\n",
    "\n",
    "At this point, we make the important assumption that rows in our dataset are not correlated. That is, we assume that house price observations are independent of one another in this dataset. Of course, this is not a very realistic assumption, however, this assumption allows us to circumvent time series aspects of the underlying dynamics of diamond prices and also to resort to rather classical predictive models such as multiple linear regression."
   ]
  },
  {
   "cell_type": "markdown",
   "metadata": {},
   "source": [
    "## Data Cleaning and Preprocessing\n",
    "\n",
    "In this section, we describe the data cleaning and preprocessing steps undertaken for this project."
   ]
  },
  {
   "cell_type": "markdown",
   "metadata": {},
   "source": [
    "> TYLERRRRRRRRRRRRRRRRRRR"
   ]
  },
  {
   "cell_type": "markdown",
   "metadata": {},
   "source": [
    "## Data Exploration and Visualisation\n",
    "\n",
    "Our dataset is now considered to be clean and we are ready to start visualising and explore each of the features."
   ]
  },
  {
   "cell_type": "markdown",
   "metadata": {},
   "source": [
    "> LATERRRRRRR"
   ]
  },
  {
   "cell_type": "markdown",
   "metadata": {},
   "source": [
    "## Summary and Conclusions"
   ]
  },
  {
   "cell_type": "markdown",
   "metadata": {},
   "source": [
    "> YEEEEEEEEEEEEEEE"
   ]
  },
  {
   "cell_type": "markdown",
   "metadata": {},
   "source": [
    "## References"
   ]
  },
  {
   "cell_type": "markdown",
   "metadata": {},
   "source": [
    "- Agrawal, S.. Diamonds (Kaggle). Retrieved September 26, 2022 from https://www.kaggle.com/datasets/shivam2503/diamonds"
   ]
  }
 ],
 "metadata": {
  "colab": {
   "collapsed_sections": [],
   "provenance": []
  },
  "kernelspec": {
   "display_name": "Python 3.9.12 ('base')",
   "language": "python",
   "name": "python3"
  },
  "language_info": {
   "codemirror_mode": {
    "name": "ipython",
    "version": 3
   },
   "file_extension": ".py",
   "mimetype": "text/x-python",
   "name": "python",
   "nbconvert_exporter": "python",
   "pygments_lexer": "ipython3",
   "version": "3.9.12"
  },
  "vscode": {
   "interpreter": {
    "hash": "ca4daa456bdb90d71576850cf35a57821d28fe4fae1025db71d286b051147a28"
   }
  }
 },
 "nbformat": 4,
 "nbformat_minor": 1
}
