{
 "cells": [
  {
   "cell_type": "markdown",
   "metadata": {},
   "source": [
    "# Predicting Diamond Prices\n",
    "## Phase 1: Data Preparation & Visualisation"
   ]
  },
  {
   "cell_type": "markdown",
   "metadata": {},
   "source": [
    "#### Group Number: Group 57\n",
    "\n",
    "#### Name(s) & ID(s) of Group Members: \n",
    "- Eddie Ton (s3948609)\n",
    "- Jabbar Baloghlan (s3890406)\n",
    "- Tyler Xia (s3945694)"
   ]
  },
  {
   "cell_type": "markdown",
   "metadata": {},
   "source": [
    "## Table of Contents\n",
    "* [Introduction](#Introduction) \n",
    "  + [Dataset Source](#Dataset-Source)\n",
    "  + [Dataset Details](#Dataset-Details)\n",
    "  + [Dataset Features](#Dataset-Features)\n",
    "  + [Target Feature](#Target-Feature)\n",
    "* [Goals and Objectives](#Goals-and-Objectives)\n",
    "* [Data Cleaning and Preprocessing](#Data-Cleaning-and-Preprocessing)\n",
    "* [Data Exploration and Visualisation](#Data-Exploration-and-Visualisation)\n",
    "* [Summary and Conclusion](#Summary-and-Conclusion)\n",
    "* [References](#References)"
   ]
  },
  {
   "cell_type": "markdown",
   "metadata": {},
   "source": [
    "## Introduction"
   ]
  },
  {
   "cell_type": "markdown",
   "metadata": {},
   "source": [
    "### Dataset Source"
   ]
  },
  {
   "cell_type": "markdown",
   "metadata": {},
   "source": [
    "The Diamond dataset used in study was sourced from Kaggle (Shivam Agrawal, 2021). This dataset contains various details and properties of diamonds based on the Tiffany & Co's snapshot pricelist from 2017."
   ]
  },
  {
   "cell_type": "markdown",
   "metadata": {},
   "source": [
    "### Dataset Details"
   ]
  },
  {
   "cell_type": "markdown",
   "metadata": {},
   "source": [
    "The dataset contains information about the carat, size, quality, colour and the price of a diamond. It also includes information on the depth, the height of a diamond from the middle to its tip. The table, which is the largest surface area on the diamond which is commonly on the top. As well as, the width, length, and height of a diamond. \n",
    "\n",
    "This dataset has 10 features in total and 53941 observations. Diamonds with no price information or missing values have been removed from the dataset."
   ]
  },
  {
   "cell_type": "code",
   "execution_count": null,
   "metadata": {},
   "outputs": [],
   "source": [
    "import warnings\n",
    "warnings.filterwarnings(\"ignore\")\n",
    "\n",
    "import numpy as np\n",
    "import pandas as pd\n",
    "import io\n",
    "import requests\n",
    "\n",
    "pd.set_option('display.max_columns', None) \n",
    "\n",
    "###\n",
    "import matplotlib.pyplot as plt\n",
    "import seaborn as sns\n",
    "%matplotlib inline \n",
    "%config InlineBackend.figure_format = 'retina'\n",
    "plt.style.use(\"seaborn\")\n",
    "###"
   ]
  },
  {
   "cell_type": "code",
   "execution_count": null,
   "metadata": {},
   "outputs": [],
   "source": [
    "# name of the dataset to be imported from our GitHub account\n",
    "df_name = 'diamonds.csv'\n",
    "df_url = 'https://raw.githubusercontent.com/Jobi060704/math_files/main/' + df_name\n",
    "url_content = requests.get(df_url, verify=False).content\n",
    "diamond_df = pd.read_csv(io.StringIO(url_content.decode('utf-8')))"
   ]
  },
  {
   "cell_type": "code",
   "execution_count": null,
   "metadata": {},
   "outputs": [],
   "source": [
    "new_diamond_df = diamond_df.drop(columns=diamond_df.columns[0])\n",
    "new_diamond_df.sample(10, random_state=99)"
   ]
  },
  {
   "cell_type": "markdown",
   "metadata": {},
   "source": [
    "### Dataset Features"
   ]
  },
  {
   "cell_type": "markdown",
   "metadata": {},
   "source": [
    "The features in our dataset are described in the table below. These descriptions are taken from the Kaggle data source."
   ]
  },
  {
   "cell_type": "code",
   "execution_count": null,
   "metadata": {},
   "outputs": [],
   "source": [
    "from tabulate import tabulate\n",
    "\n",
    "table = [['Name','Data Type','Units','Description'],\n",
    "        ['Carat','Numeric','Carat','Weight of the diamond'],\n",
    "        ['Cut','Ordinal Categorical','NA','Quality of the cut:\\\n",
    "            \\n- Fair\\\n",
    "            \\n- Good\\\n",
    "            \\n- Very Good\\\n",
    "            \\n- Premium\\\n",
    "            \\n- Ideal'],\n",
    "        ['Color','Ordinal Categorical','NA','Diamond colour, from J (worst) to D (best)'],\n",
    "        ['Clarity','Ordinal Categorical','NA','A measurement of the clarity of a diamond:\\\n",
    "            \\n- I1 (worst)\\\n",
    "            \\n- SI2\\\n",
    "            \\n- SI1\\\n",
    "            \\n- VS2\\\n",
    "            \\n- VS1\\\n",
    "            \\n- VVS2\\\n",
    "            \\n- VVS1\\\n",
    "            \\n- IF (best)'],\n",
    "        ['Depth','Numeric','Percent','Total depth percentage = z / mean(x, y) = 2 * z / (x + y) '],\n",
    "        ['Table','Numeric','Percent','Percentage of a diamonds average diameter\\nof the top section relative to its total diameter'],\n",
    "        ['Price','Numeric','USD','The price of the diamond'],\n",
    "        ['X','Numeric','Millimeters','Length of a diamond'],\n",
    "        ['Y','Numeric','Millimeters','Width of a diamond'],\n",
    "        ['Z','Numeric','Millimeters','Depth of a diamond']]\n",
    "\n",
    "print(tabulate(table, headers='firstrow', tablefmt='fancy_grid'))"
   ]
  },
  {
   "cell_type": "markdown",
   "metadata": {},
   "source": [
    "### Target Feature"
   ]
  },
  {
   "cell_type": "markdown",
   "metadata": {},
   "source": [
    "For this project, the target feature in this dataset will be the diamond price in US dollars. That is, the price of diamonds will be predicted based on the explanatory/ descriptive variables. "
   ]
  },
  {
   "cell_type": "markdown",
   "metadata": {},
   "source": [
    "## Goals and Objectives"
   ]
  },
  {
   "cell_type": "markdown",
   "metadata": {},
   "source": [
    "Diamonds have a very complex system to calculate the price. A model that could accurately predict/set diamond prices is a requirement to anyone purchasing or selling diamonds. For instance a store selling diamonds could use such a model to determine the price to sell the diamond at. And similarily, a jeweler could reapair and create appropriate designs for jewelry based on the diamond price and other realted features.\n",
    "\n",
    "Therefore, the primary goal of this project is to accurately predict the price of a diamond based on its properties, as well as which feature has the most impact on determining the final price of the diamond."
   ]
  },
  {
   "cell_type": "markdown",
   "metadata": {},
   "source": [
    "## Data Cleaning and Preprocessing\n",
    "\n",
    "In this section, we describe the data cleaning and preprocessing steps undertaken for this project."
   ]
  },
  {
   "cell_type": "markdown",
   "metadata": {},
   "source": [
    "### Data Cleaning Steps\n",
    "\n",
    "*   Drop irrelevant features in our dataset\n",
    "*   Check and rename/ modify some column names\n",
    "*   Check for missing values\n",
    "*   Remove all the rows with missing values \n",
    "*   Random sampling of the dataset for 5000 rows"
   ]
  },
  {
   "cell_type": "markdown",
   "metadata": {},
   "source": [
    "#### Taking care of outliers and unusual observations\n",
    "\n",
    "For numeric features based on the measurement of the real object of a diamond, the observation of the numeric features cannot be equal to zero or any negative values. Additionally, table and depth features must be greater than zero. Since, the features are a percentage between two positive variables."
   ]
  },
  {
   "cell_type": "markdown",
   "metadata": {},
   "source": [
    "The table below are a sample of the observations that fulfill these conditions. All 20 of the problematic observations have been dropped from the dataset."
   ]
  },
  {
   "cell_type": "code",
   "execution_count": null,
   "metadata": {},
   "outputs": [],
   "source": [
    "no_outlier_df = new_diamond_df[(new_diamond_df['Carat'] > 0) & (new_diamond_df['Depth'] > 0) & (new_diamond_df['Table'] > 0) & (new_diamond_df['X'] > 0) & (new_diamond_df['Y'] > 0) & (new_diamond_df['Z'] > 0)]\n",
    "no_outlier_df.sample(10, random_state=99)"
   ]
  },
  {
   "cell_type": "markdown",
   "metadata": {},
   "source": [
    "For categorical features, an outlier is defined as a value that doesn't fit the previously defined observations of a feature. There are no problematic observations. Thus, requires no changes to the dataset."
   ]
  },
  {
   "cell_type": "markdown",
   "metadata": {},
   "source": [
    "## Data Exploration and Visualisation\n",
    "\n",
    "Our dataset is now considered to be clean and we are ready to start visualising and explore each of the features."
   ]
  },
  {
   "cell_type": "markdown",
   "metadata": {},
   "source": [
    "### Univariate Visualisation"
   ]
  },
  {
   "cell_type": "markdown",
   "metadata": {},
   "source": [
    "#### Distribution Plot of Color\n",
    "\n",
    "We count the Color gradients to see which color has the highest count in diamonds. As we can see in Figure 1, the I gradient is the most abundant variation compared to others."
   ]
  },
  {
   "cell_type": "code",
   "execution_count": null,
   "metadata": {},
   "outputs": [],
   "source": [
    "plt.figure(figsize = (14,8))\n",
    "fig = sns.histplot(new_diamond_df['Color'], discrete=True)\n",
    "fig.set_xticks(new_diamond_df['Color'].unique())\n",
    "fig.set_xticklabels(['D','E','F','G','H','I','J'])\n",
    "fig = plt.title('Figure 1: Color gradient distribution for Diamonds', fontsize = 15)\n",
    "plt.show()"
   ]
  },
  {
   "cell_type": "markdown",
   "metadata": {},
   "source": [
    "#### Distribution Plot of Cut\n",
    "\n",
    "We count the Cut grades to see which cut has the highest count in diamonds. As we can see in Figure 1, the the 'Fair' cut grade is the most abundant variation compared to others."
   ]
  },
  {
   "cell_type": "code",
   "execution_count": null,
   "metadata": {},
   "outputs": [],
   "source": [
    "plt.figure(figsize = (14,8))\n",
    "fig = sns.histplot(new_diamond_df['Cut'], discrete=True)\n",
    "fig.set_xticks(new_diamond_df['Cut'].unique())\n",
    "fig.set_xticklabels(['Fair','Good','Very Good','Premium','Ideal'])\n",
    "fig = plt.title('Figure 2: Cut grade distribution for Diamonds', fontsize = 15)\n",
    "plt.show()"
   ]
  },
  {
   "cell_type": "markdown",
   "metadata": {},
   "source": [
    "#### Boxplot of Clarity\n",
    "\n",
    "The boxplot demonstrates the deviation in Clarities in diamonds. From the results, we can get that Clarities of SI1, VS2, and VS1 are most common.\n",
    "\n",
    "Boxplot legend:\n",
    "- 1 -> I1 (worst)\n",
    "- 2 -> SI2\n",
    "- 3 -> SI1\n",
    "- 4 -> VS2\n",
    "- 5 -> VS1\n",
    "- 6 -> VVS2\n",
    "- 7 -> VVS1\n",
    "- 8 -> IF (best)"
   ]
  },
  {
   "cell_type": "code",
   "execution_count": null,
   "metadata": {},
   "outputs": [],
   "source": [
    "plt.figure(figsize = (14,6))\n",
    "b1_df = new_diamond_df.copy()\n",
    "\n",
    "b1_df.Clarity[b1_df.Clarity == 'I1'] = 1\n",
    "b1_df.Clarity[b1_df.Clarity == 'SI2'] = 2\n",
    "b1_df.Clarity[b1_df.Clarity == 'SI1'] = 3\n",
    "b1_df.Clarity[b1_df.Clarity == 'VS2'] = 4\n",
    "b1_df.Clarity[b1_df.Clarity == 'VS1'] = 5\n",
    "b1_df.Clarity[b1_df.Clarity == 'VVS2'] = 6\n",
    "b1_df.Clarity[b1_df.Clarity == 'VVS1'] = 7\n",
    "b1_df.Clarity[b1_df.Clarity == 'IF'] = 8\n",
    "\n",
    "fig = sns.boxplot(b1_df['Clarity']).set_title('Figure 3: Box Plot of Clarity', fontsize = 15)\n",
    "plt.show()"
   ]
  },
  {
   "cell_type": "markdown",
   "metadata": {},
   "source": [
    "### Two-Variable Visualisation"
   ]
  },
  {
   "cell_type": "markdown",
   "metadata": {},
   "source": [
    "#### Boxplot of Clarity and price\n",
    "\n",
    "The boxplot demonstrates the relevant price per clarity of a diamond. From the results, we can see that all variations are relatively same within IQR, and can be deemed to be able to change the price insignificantly."
   ]
  },
  {
   "cell_type": "code",
   "execution_count": null,
   "metadata": {},
   "outputs": [],
   "source": [
    "plt.figure(figsize = (14,10))\n",
    "sns.boxplot(new_diamond_df['Clarity'], new_diamond_df['Price'], order=['I1','SI2','SI1','VS2','VS1','VVS2','VVS1','IF'])\n",
    "plt.title('Figure 7: Boxplot of Price by Clarity grade', fontsize = 15)\n",
    "plt.show()"
   ]
  },
  {
   "cell_type": "markdown",
   "metadata": {},
   "source": [
    "#### Boxplot of Cut and price\n",
    "\n",
    "The boxplot demonstrates the relevant price per cut grade of a diamond. From the results, we can see that while the ranges for all variations are relatively the same, there is a slight increase in price curve as the cut grade increases. This can be deemed to be able to moderately affecty the price"
   ]
  },
  {
   "cell_type": "code",
   "execution_count": null,
   "metadata": {},
   "outputs": [],
   "source": [
    "plt.figure(figsize = (14,10))\n",
    "sns.boxplot(new_diamond_df['Cut'], new_diamond_df['Price'], order=['Fair','Good','Very Good','Premium','Ideal'])\n",
    "plt.title('Figure 8: Boxplot of Price by Cut grade', fontsize = 15)\n",
    "plt.show()"
   ]
  },
  {
   "cell_type": "markdown",
   "metadata": {},
   "source": [
    "#### Boxplot of Color and price\n",
    "\n",
    "The boxplot demonstrates the relevant price per color gradient of a diamond. From the results, we can observe that it has produced an anomaly, as the classification in real-world subpars it. Thus, we can determine this as being a non complementary result."
   ]
  },
  {
   "cell_type": "code",
   "execution_count": null,
   "metadata": {},
   "outputs": [],
   "source": [
    "plt.figure(figsize = (14,10))\n",
    "sns.boxplot(new_diamond_df['Color'], new_diamond_df['Price'], order=['D','E','F','G','H','I','J'])\n",
    "plt.title('Figure 9: Boxplot of Price by Color gradient', fontsize = 15)\n",
    "plt.show()"
   ]
  },
  {
   "cell_type": "markdown",
   "metadata": {},
   "source": [
    "#### Scatterplot of Depth and Price of Diamonds\n",
    "\n",
    "Figure 10 demonstrates the relevant depth per price of a diamond. If we take a sample from the results, we can see that the price for 60% can have prices from any range available by the dataset. Thus, it indicates that Depth is a completely unrelated variable to calculationg diamond prices."
   ]
  },
  {
   "cell_type": "code",
   "execution_count": null,
   "metadata": {},
   "outputs": [],
   "source": [
    "plt.figure(figsize = (15,8))\n",
    "plt.scatter(new_diamond_df['Depth'], new_diamond_df['Price'], alpha = 0.5)\n",
    "plt.title('Figure 10: Scatterplot of Depth and Price of Diamonds', fontsize = 15)\n",
    "plt.xlabel('Depth')\n",
    "plt.ylabel('Price')\n",
    "plt.show()"
   ]
  },
  {
   "cell_type": "markdown",
   "metadata": {},
   "source": [
    "#### Scatterplot of Table and Price of Diamonds\n",
    "\n",
    "Figure 11 demonstrates the relevant table per price of a diamond. If we take a sample from the results, identically to the Depth/Price scatterplot results, we can see that the price for 55% can have prices from any range available by the dataset. Thus, it similarly indicates that Table is a completely unrelated variable to calculationg diamond prices."
   ]
  },
  {
   "cell_type": "code",
   "execution_count": null,
   "metadata": {},
   "outputs": [],
   "source": [
    "plt.figure(figsize = (15,8))\n",
    "plt.scatter(new_diamond_df['Table'], new_diamond_df['Price'], alpha = 0.5)\n",
    "plt.title('Figure 11: Scatterplot of Table and Price of Diamonds', fontsize = 15)\n",
    "plt.xlabel('Table')\n",
    "plt.ylabel('Price')\n",
    "plt.show()"
   ]
  },
  {
   "cell_type": "markdown",
   "metadata": {},
   "source": [
    "#### Scatterplot of Carats and Price of Diamonds\n",
    "\n",
    "Figure 12 demonstrates the relevant carat per price of a diamond. Observing the data, we can see that there is a clear connection between the increases of the 2 variables, which follows a linear relationship. The following results can be used as a main influencer to finding diamond prices."
   ]
  },
  {
   "cell_type": "code",
   "execution_count": null,
   "metadata": {},
   "outputs": [],
   "source": [
    "sns.set_style('whitegrid')\n",
    "sns.lmplot(x ='Carat', y ='Price', data = new_diamond_df, line_kws={'color': 'red'}, height=6, aspect=12/6).set(ylim=(0, 20000))"
   ]
  },
  {
   "cell_type": "markdown",
   "metadata": {},
   "source": [
    "### Three-Variable Visualisation"
   ]
  },
  {
   "cell_type": "markdown",
   "metadata": {},
   "source": [
    "#### Scatterplot of price by clarity and length\n",
    "\n",
    "In figure 13, it shows that diamonds with higher clarity tends to require less length in order to match the price of diamonds with a longer length but worse clarity. This is based on the high expontial growth of the IF points compared to the I1 points."
   ]
  },
  {
   "cell_type": "code",
   "execution_count": null,
   "metadata": {},
   "outputs": [],
   "source": [
    "plt.figure(figsize = (14,10))\n",
    "sns.scatterplot(no_outlier_df['X'], no_outlier_df['Price'], hue = no_outlier_df['Clarity'])\n",
    "plt.title('Figure 13: Scatterplot of price by clarity and length', fontsize = 15)\n",
    "plt.xlabel('Price of the diamond')\n",
    "plt.ylabel('Length of the diamond')\n",
    "plt.legend(loc = 'upper right')\n",
    "plt.show()"
   ]
  },
  {
   "cell_type": "markdown",
   "metadata": {},
   "source": [
    "## Summary and Conclusions"
   ]
  },
  {
   "cell_type": "markdown",
   "metadata": {},
   "source": [
    "> YEEEEEEEEEEEEEEE"
   ]
  },
  {
   "cell_type": "markdown",
   "metadata": {},
   "source": [
    "## References"
   ]
  },
  {
   "cell_type": "markdown",
   "metadata": {},
   "source": [
    "- Agrawal, S.. Diamonds (Kaggle). Retrieved September 26, 2022 from https://www.kaggle.com/datasets/shivam2503/diamonds"
   ]
  }
 ],
 "metadata": {
  "colab": {
   "collapsed_sections": [],
   "provenance": []
  },
  "kernelspec": {
   "display_name": "Python 3.9.12 ('base')",
   "language": "python",
   "name": "python3"
  },
  "language_info": {
   "codemirror_mode": {
    "name": "ipython",
    "version": 3
   },
   "file_extension": ".py",
   "mimetype": "text/x-python",
   "name": "python",
   "nbconvert_exporter": "python",
   "pygments_lexer": "ipython3",
   "version": "3.9.12"
  },
  "vscode": {
   "interpreter": {
    "hash": "ca4daa456bdb90d71576850cf35a57821d28fe4fae1025db71d286b051147a28"
   }
  }
 },
 "nbformat": 4,
 "nbformat_minor": 1
}
