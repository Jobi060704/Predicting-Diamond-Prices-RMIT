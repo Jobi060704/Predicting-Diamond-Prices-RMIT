{
 "cells": [
  {
   "cell_type": "markdown",
   "metadata": {},
   "source": [
    "# Predicting Diamond Prices\n",
    "## Phase 1: Data Preparation & Visualisation"
   ]
  },
  {
   "cell_type": "markdown",
   "metadata": {},
   "source": [
    "#### Group Number: Group 57\n",
    "\n",
    "#### Name(s) & ID(s) of Group Members: \n",
    "- Eddie Ton (s3948609)\n",
    "- Jabbar Baloghlan (s3890406)\n",
    "- Tyler Xia (s3945694)"
   ]
  },
  {
   "cell_type": "markdown",
   "metadata": {},
   "source": [
    "## Table of Contents\n",
    "* [Introduction](#Introduction) \n",
    "  + [Dataset Source](#Dataset-Source)\n",
    "  + [Dataset Details](#Dataset-Details)\n",
    "  + [Dataset Features](#Dataset-Features)\n",
    "  + [Target Feature](#Target-Feature)\n",
    "* [Goals and Objectives](#Goals-and-Objectives)\n",
    "* [Data Cleaning and Preprocessing](#Data-Cleaning-and-Preprocessing)\n",
    "* [Data Exploration and Visualisation](#Data-Exploration-and-Visualisation)\n",
    "* [Summary and Conclusion](#Summary-and-Conclusion)\n",
    "* [References](#References)"
   ]
  },
  {
   "cell_type": "markdown",
   "metadata": {},
   "source": [
    "## Introduction"
   ]
  },
  {
   "cell_type": "markdown",
   "metadata": {},
   "source": [
    "### Dataset Source"
   ]
  },
  {
   "cell_type": "markdown",
   "metadata": {},
   "source": [
    "The Diamond dataset used in study was sourced from Kaggle (Shivam Agrawal, 2021). This dataset contains various details and properties of diamonds based on the Tiffany & Co's snapshot pricelist from 2017."
   ]
  },
  {
   "cell_type": "markdown",
   "metadata": {},
   "source": [
    "### Dataset Details"
   ]
  },
  {
   "cell_type": "markdown",
   "metadata": {},
   "source": [
    "The dataset contains information about the carat, size, quality, colour and the price of a diamond. It also includes information on the depth, the height of a diamond from the middle to its tip. The table, which is the largest surface area on the diamond which is commonly on the top. As well as, the width, length, and height of a diamond. \n",
    "\n",
    "This dataset has 10 features in total and 53941 observations. Diamonds with no price information or missing values have been removed from the dataset."
   ]
  },
  {
   "cell_type": "code",
<<<<<<< HEAD
   "execution_count": null,
=======
   "execution_count": 39,
>>>>>>> parent of 6604a15 (Additon of 3 univariable plots, 6 two variable plots and three variable section)
   "metadata": {},
   "outputs": [],
   "source": [
    "import warnings\n",
    "warnings.filterwarnings(\"ignore\")\n",
    "\n",
    "import numpy as np\n",
    "import pandas as pd\n",
    "import io\n",
    "import requests\n",
    "\n",
    "pd.set_option('display.max_columns', None) \n",
    "\n",
    "###\n",
    "import matplotlib.pyplot as plt\n",
    "import seaborn as sns\n",
    "%matplotlib inline \n",
    "%config InlineBackend.figure_format = 'retina'\n",
    "plt.style.use(\"seaborn\")\n",
    "###"
   ]
  },
  {
   "cell_type": "code",
<<<<<<< HEAD
   "execution_count": null,
=======
   "execution_count": 40,
>>>>>>> parent of 6604a15 (Additon of 3 univariable plots, 6 two variable plots and three variable section)
   "metadata": {},
   "outputs": [],
   "source": [
    "# name of the dataset to be imported from our GitHub account\n",
    "df_name = 'diamonds.csv'\n",
    "df_url = 'https://raw.githubusercontent.com/Jobi060704/math_files/main/' + df_name\n",
    "url_content = requests.get(df_url, verify=False).content\n",
    "diamond_df = pd.read_csv(io.StringIO(url_content.decode('utf-8')))"
   ]
  },
  {
   "cell_type": "code",
<<<<<<< HEAD
   "execution_count": null,
   "metadata": {},
   "outputs": [],
=======
   "execution_count": 41,
   "metadata": {},
   "outputs": [
    {
     "data": {
      "text/html": [
       "<div>\n",
       "<style scoped>\n",
       "    .dataframe tbody tr th:only-of-type {\n",
       "        vertical-align: middle;\n",
       "    }\n",
       "\n",
       "    .dataframe tbody tr th {\n",
       "        vertical-align: top;\n",
       "    }\n",
       "\n",
       "    .dataframe thead th {\n",
       "        text-align: right;\n",
       "    }\n",
       "</style>\n",
       "<table border=\"1\" class=\"dataframe\">\n",
       "  <thead>\n",
       "    <tr style=\"text-align: right;\">\n",
       "      <th></th>\n",
       "      <th>Carat</th>\n",
       "      <th>Cut</th>\n",
       "      <th>Color</th>\n",
       "      <th>Clarity</th>\n",
       "      <th>Depth</th>\n",
       "      <th>Table</th>\n",
       "      <th>Price</th>\n",
       "      <th>X</th>\n",
       "      <th>Y</th>\n",
       "      <th>Z</th>\n",
       "    </tr>\n",
       "  </thead>\n",
       "  <tbody>\n",
       "    <tr>\n",
       "      <th>42653</th>\n",
       "      <td>0.40</td>\n",
       "      <td>Premium</td>\n",
       "      <td>G</td>\n",
       "      <td>IF</td>\n",
       "      <td>60.8</td>\n",
       "      <td>58.0</td>\n",
       "      <td>1333</td>\n",
       "      <td>4.73</td>\n",
       "      <td>4.77</td>\n",
       "      <td>2.89</td>\n",
       "    </tr>\n",
       "    <tr>\n",
       "      <th>4069</th>\n",
       "      <td>0.31</td>\n",
       "      <td>Very Good</td>\n",
       "      <td>D</td>\n",
       "      <td>SI1</td>\n",
       "      <td>63.0</td>\n",
       "      <td>55.0</td>\n",
       "      <td>571</td>\n",
       "      <td>4.32</td>\n",
       "      <td>4.34</td>\n",
       "      <td>2.73</td>\n",
       "    </tr>\n",
       "    <tr>\n",
       "      <th>27580</th>\n",
       "      <td>1.60</td>\n",
       "      <td>Ideal</td>\n",
       "      <td>F</td>\n",
       "      <td>VS2</td>\n",
       "      <td>62.0</td>\n",
       "      <td>55.0</td>\n",
       "      <td>18421</td>\n",
       "      <td>7.49</td>\n",
       "      <td>7.54</td>\n",
       "      <td>4.66</td>\n",
       "    </tr>\n",
       "    <tr>\n",
       "      <th>33605</th>\n",
       "      <td>0.31</td>\n",
       "      <td>Good</td>\n",
       "      <td>D</td>\n",
       "      <td>SI2</td>\n",
       "      <td>63.1</td>\n",
       "      <td>54.0</td>\n",
       "      <td>462</td>\n",
       "      <td>4.33</td>\n",
       "      <td>4.38</td>\n",
       "      <td>2.75</td>\n",
       "    </tr>\n",
       "    <tr>\n",
       "      <th>34415</th>\n",
       "      <td>0.30</td>\n",
       "      <td>Ideal</td>\n",
       "      <td>G</td>\n",
       "      <td>IF</td>\n",
       "      <td>61.2</td>\n",
       "      <td>57.0</td>\n",
       "      <td>863</td>\n",
       "      <td>4.35</td>\n",
       "      <td>4.38</td>\n",
       "      <td>2.67</td>\n",
       "    </tr>\n",
       "    <tr>\n",
       "      <th>46932</th>\n",
       "      <td>0.52</td>\n",
       "      <td>Premium</td>\n",
       "      <td>G</td>\n",
       "      <td>VS1</td>\n",
       "      <td>62.4</td>\n",
       "      <td>60.0</td>\n",
       "      <td>1815</td>\n",
       "      <td>5.12</td>\n",
       "      <td>5.11</td>\n",
       "      <td>3.19</td>\n",
       "    </tr>\n",
       "    <tr>\n",
       "      <th>52243</th>\n",
       "      <td>0.80</td>\n",
       "      <td>Very Good</td>\n",
       "      <td>J</td>\n",
       "      <td>VS1</td>\n",
       "      <td>62.7</td>\n",
       "      <td>58.0</td>\n",
       "      <td>2487</td>\n",
       "      <td>5.91</td>\n",
       "      <td>5.95</td>\n",
       "      <td>3.72</td>\n",
       "    </tr>\n",
       "    <tr>\n",
       "      <th>38855</th>\n",
       "      <td>0.40</td>\n",
       "      <td>Ideal</td>\n",
       "      <td>G</td>\n",
       "      <td>VVS2</td>\n",
       "      <td>62.4</td>\n",
       "      <td>56.0</td>\n",
       "      <td>1050</td>\n",
       "      <td>4.74</td>\n",
       "      <td>4.72</td>\n",
       "      <td>2.95</td>\n",
       "    </tr>\n",
       "    <tr>\n",
       "      <th>38362</th>\n",
       "      <td>0.33</td>\n",
       "      <td>Ideal</td>\n",
       "      <td>D</td>\n",
       "      <td>VVS2</td>\n",
       "      <td>61.1</td>\n",
       "      <td>56.0</td>\n",
       "      <td>1021</td>\n",
       "      <td>4.46</td>\n",
       "      <td>4.44</td>\n",
       "      <td>2.72</td>\n",
       "    </tr>\n",
       "    <tr>\n",
       "      <th>20258</th>\n",
       "      <td>1.72</td>\n",
       "      <td>Ideal</td>\n",
       "      <td>J</td>\n",
       "      <td>SI1</td>\n",
       "      <td>62.0</td>\n",
       "      <td>57.0</td>\n",
       "      <td>8688</td>\n",
       "      <td>7.66</td>\n",
       "      <td>7.62</td>\n",
       "      <td>4.74</td>\n",
       "    </tr>\n",
       "  </tbody>\n",
       "</table>\n",
       "</div>"
      ],
      "text/plain": [
       "       Carat        Cut Color Clarity  Depth  Table  Price     X     Y     Z\n",
       "42653   0.40    Premium     G      IF   60.8   58.0   1333  4.73  4.77  2.89\n",
       "4069    0.31  Very Good     D     SI1   63.0   55.0    571  4.32  4.34  2.73\n",
       "27580   1.60      Ideal     F     VS2   62.0   55.0  18421  7.49  7.54  4.66\n",
       "33605   0.31       Good     D     SI2   63.1   54.0    462  4.33  4.38  2.75\n",
       "34415   0.30      Ideal     G      IF   61.2   57.0    863  4.35  4.38  2.67\n",
       "46932   0.52    Premium     G     VS1   62.4   60.0   1815  5.12  5.11  3.19\n",
       "52243   0.80  Very Good     J     VS1   62.7   58.0   2487  5.91  5.95  3.72\n",
       "38855   0.40      Ideal     G    VVS2   62.4   56.0   1050  4.74  4.72  2.95\n",
       "38362   0.33      Ideal     D    VVS2   61.1   56.0   1021  4.46  4.44  2.72\n",
       "20258   1.72      Ideal     J     SI1   62.0   57.0   8688  7.66  7.62  4.74"
      ]
     },
     "execution_count": 41,
     "metadata": {},
     "output_type": "execute_result"
    }
   ],
>>>>>>> parent of 6604a15 (Additon of 3 univariable plots, 6 two variable plots and three variable section)
   "source": [
    "new_diamond_df = diamond_df.drop(columns=diamond_df.columns[0])\n",
    "new_diamond_df.sample(10, random_state=99)"
   ]
  },
  {
   "cell_type": "markdown",
   "metadata": {},
   "source": [
    "### Dataset Features"
   ]
  },
  {
   "cell_type": "markdown",
   "metadata": {},
   "source": [
    "The features in our dataset are described in the table below. These descriptions are taken from the Kaggle data source."
   ]
  },
  {
   "cell_type": "code",
<<<<<<< HEAD
   "execution_count": null,
=======
   "execution_count": 42,
>>>>>>> parent of 6604a15 (Additon of 3 univariable plots, 6 two variable plots and three variable section)
   "metadata": {},
   "outputs": [],
   "source": [
    "from tabulate import tabulate\n",
    "\n",
    "table = [['Name','Data Type','Units','Description'],\n",
    "        ['Carat','Numeric','Carat','Weight of the diamond'],\n",
    "        ['Cut','Ordinal Categorical','NA','Quality of the cut:\\\n",
    "            \\n- Fair\\\n",
    "            \\n- Good\\\n",
    "            \\n- Very Good\\\n",
    "            \\n- Premium\\\n",
    "            \\n- Ideal'],\n",
    "        ['Color','Ordinal Categorical','NA','Diamond colour, from J (worst) to D (best)'],\n",
    "        ['Clarity','Ordinal Categorical','NA','A measurement of the clarity of a diamond:\\\n",
    "            \\n- I1 (worst)\\\n",
    "            \\n- SI2\\\n",
    "            \\n- SI1\\\n",
    "            \\n- VS2\\\n",
    "            \\n- VS1\\\n",
    "            \\n- VVS2\\\n",
    "            \\n- VVS1\\\n",
    "            \\n- IF (best)'],\n",
    "        ['Depth','Numeric','Percent','Total depth percentage = z / mean(x, y) = 2 * z / (x + y) '],\n",
    "        ['Table','Numeric','Percent','Percentage of a diamonds average diameter\\nof the top section relative to its total diameter'],\n",
    "        ['Price','Numeric','USD','The price of the diamond'],\n",
    "        ['X','Numeric','Millimeters','Length of a diamond'],\n",
    "        ['Y','Numeric','Millimeters','Width of a diamond'],\n",
    "        ['Z','Numeric','Millimeters','Depth of a diamond']]\n",
    "\n",
    "print(tabulate(table, headers='firstrow', tablefmt='fancy_grid'))"
   ]
  },
  {
   "cell_type": "markdown",
   "metadata": {},
   "source": [
    "### Target Feature"
   ]
  },
  {
   "cell_type": "markdown",
   "metadata": {},
   "source": [
    "For this project, the target feature in this dataset will be the diamond price in US dollars. That is, the price of diamonds will be predicted based on the explanatory/ descriptive variables. "
   ]
  },
  {
   "cell_type": "markdown",
   "metadata": {},
   "source": [
    "## Goals and Objectives"
   ]
  },
  {
   "cell_type": "markdown",
   "metadata": {},
   "source": [
    "Diamonds have a very complex system to calculate the price. A model that could accurately predict/set diamond prices is a requirement to anyone purchasing or selling diamonds. For instance a store selling diamonds could use such a model to determine the price to sell the diamond at. And similarily, a jeweler could reapair and create appropriate designs for jewelry based on the diamond price and other realted features.\n",
    "\n",
    "Therefore, the primary goal of this project is to accurately predict the price of a diamond based on its properties, as well as which feature has the most impact on determining the final price of the diamond."
   ]
  },
  {
   "cell_type": "markdown",
   "metadata": {},
   "source": [
    "## Data Cleaning and Preprocessing\n",
    "\n",
    "In this section, we describe the data cleaning and preprocessing steps undertaken for this project."
   ]
  },
  {
   "cell_type": "markdown",
   "metadata": {},
   "source": [
    "### Data Cleaning Steps\n",
    "\n",
    "*   Drop irrelevant features in our dataset\n",
    "*   Check and rename/ modify some column names\n",
    "*   Check for missing values\n",
    "*   Remove all the rows with missing values \n",
    "*   Random sampling of the dataset for 5000 rows"
   ]
  },
  {
   "cell_type": "markdown",
   "metadata": {},
   "source": [
    "#### Taking care of outliers and unusual observations\n",
    "\n",
    "For numeric features based on the measurement of the real object of a diamond, the observation of the numeric features cannot be equal to zero or any negative values. Additionally, table and depth features must be greater than zero. Since, the features are a percentage between two positive variables."
   ]
  },
  {
   "cell_type": "markdown",
   "metadata": {},
   "source": [
    "The table below are a sample of the observations that fulfill these conditions. All 20 of the problematic observations have been dropped from the dataset."
   ]
  },
  {
   "cell_type": "code",
<<<<<<< HEAD
   "execution_count": null,
   "metadata": {},
   "outputs": [],
=======
   "execution_count": 43,
   "metadata": {},
   "outputs": [
    {
     "data": {
      "text/html": [
       "<div>\n",
       "<style scoped>\n",
       "    .dataframe tbody tr th:only-of-type {\n",
       "        vertical-align: middle;\n",
       "    }\n",
       "\n",
       "    .dataframe tbody tr th {\n",
       "        vertical-align: top;\n",
       "    }\n",
       "\n",
       "    .dataframe thead th {\n",
       "        text-align: right;\n",
       "    }\n",
       "</style>\n",
       "<table border=\"1\" class=\"dataframe\">\n",
       "  <thead>\n",
       "    <tr style=\"text-align: right;\">\n",
       "      <th></th>\n",
       "      <th>Carat</th>\n",
       "      <th>Cut</th>\n",
       "      <th>Color</th>\n",
       "      <th>Clarity</th>\n",
       "      <th>Depth</th>\n",
       "      <th>Table</th>\n",
       "      <th>Price</th>\n",
       "      <th>X</th>\n",
       "      <th>Y</th>\n",
       "      <th>Z</th>\n",
       "    </tr>\n",
       "  </thead>\n",
       "  <tbody>\n",
       "    <tr>\n",
       "      <th>49849</th>\n",
       "      <td>0.56</td>\n",
       "      <td>Ideal</td>\n",
       "      <td>D</td>\n",
       "      <td>VS1</td>\n",
       "      <td>62.6</td>\n",
       "      <td>59.0</td>\n",
       "      <td>2170</td>\n",
       "      <td>5.24</td>\n",
       "      <td>5.31</td>\n",
       "      <td>3.30</td>\n",
       "    </tr>\n",
       "    <tr>\n",
       "      <th>9905</th>\n",
       "      <td>1.11</td>\n",
       "      <td>Premium</td>\n",
       "      <td>H</td>\n",
       "      <td>VS1</td>\n",
       "      <td>62.3</td>\n",
       "      <td>57.0</td>\n",
       "      <td>4687</td>\n",
       "      <td>6.67</td>\n",
       "      <td>6.62</td>\n",
       "      <td>4.14</td>\n",
       "    </tr>\n",
       "    <tr>\n",
       "      <th>47696</th>\n",
       "      <td>0.52</td>\n",
       "      <td>Ideal</td>\n",
       "      <td>E</td>\n",
       "      <td>VS1</td>\n",
       "      <td>60.0</td>\n",
       "      <td>56.0</td>\n",
       "      <td>1883</td>\n",
       "      <td>5.25</td>\n",
       "      <td>5.29</td>\n",
       "      <td>3.16</td>\n",
       "    </tr>\n",
       "    <tr>\n",
       "      <th>11721</th>\n",
       "      <td>0.34</td>\n",
       "      <td>Ideal</td>\n",
       "      <td>E</td>\n",
       "      <td>SI1</td>\n",
       "      <td>61.8</td>\n",
       "      <td>56.0</td>\n",
       "      <td>596</td>\n",
       "      <td>4.45</td>\n",
       "      <td>4.48</td>\n",
       "      <td>2.76</td>\n",
       "    </tr>\n",
       "    <tr>\n",
       "      <th>22755</th>\n",
       "      <td>2.01</td>\n",
       "      <td>Fair</td>\n",
       "      <td>H</td>\n",
       "      <td>SI2</td>\n",
       "      <td>66.7</td>\n",
       "      <td>56.0</td>\n",
       "      <td>10772</td>\n",
       "      <td>7.80</td>\n",
       "      <td>7.76</td>\n",
       "      <td>5.19</td>\n",
       "    </tr>\n",
       "    <tr>\n",
       "      <th>29220</th>\n",
       "      <td>0.34</td>\n",
       "      <td>Ideal</td>\n",
       "      <td>I</td>\n",
       "      <td>IF</td>\n",
       "      <td>61.3</td>\n",
       "      <td>55.0</td>\n",
       "      <td>695</td>\n",
       "      <td>4.52</td>\n",
       "      <td>4.55</td>\n",
       "      <td>2.78</td>\n",
       "    </tr>\n",
       "    <tr>\n",
       "      <th>53886</th>\n",
       "      <td>0.70</td>\n",
       "      <td>Good</td>\n",
       "      <td>D</td>\n",
       "      <td>VS2</td>\n",
       "      <td>58.0</td>\n",
       "      <td>62.0</td>\n",
       "      <td>2749</td>\n",
       "      <td>5.78</td>\n",
       "      <td>5.87</td>\n",
       "      <td>3.38</td>\n",
       "    </tr>\n",
       "    <tr>\n",
       "      <th>6939</th>\n",
       "      <td>1.00</td>\n",
       "      <td>Fair</td>\n",
       "      <td>E</td>\n",
       "      <td>SI1</td>\n",
       "      <td>66.3</td>\n",
       "      <td>62.0</td>\n",
       "      <td>4140</td>\n",
       "      <td>6.27</td>\n",
       "      <td>6.06</td>\n",
       "      <td>4.09</td>\n",
       "    </tr>\n",
       "    <tr>\n",
       "      <th>48868</th>\n",
       "      <td>0.78</td>\n",
       "      <td>Very Good</td>\n",
       "      <td>J</td>\n",
       "      <td>SI1</td>\n",
       "      <td>59.4</td>\n",
       "      <td>62.0</td>\n",
       "      <td>2035</td>\n",
       "      <td>6.01</td>\n",
       "      <td>6.05</td>\n",
       "      <td>3.58</td>\n",
       "    </tr>\n",
       "    <tr>\n",
       "      <th>10061</th>\n",
       "      <td>0.35</td>\n",
       "      <td>Good</td>\n",
       "      <td>F</td>\n",
       "      <td>SI2</td>\n",
       "      <td>63.8</td>\n",
       "      <td>56.0</td>\n",
       "      <td>591</td>\n",
       "      <td>4.48</td>\n",
       "      <td>4.45</td>\n",
       "      <td>2.85</td>\n",
       "    </tr>\n",
       "  </tbody>\n",
       "</table>\n",
       "</div>"
      ],
      "text/plain": [
       "       Carat        Cut Color Clarity  Depth  Table  Price     X     Y     Z\n",
       "49849   0.56      Ideal     D     VS1   62.6   59.0   2170  5.24  5.31  3.30\n",
       "9905    1.11    Premium     H     VS1   62.3   57.0   4687  6.67  6.62  4.14\n",
       "47696   0.52      Ideal     E     VS1   60.0   56.0   1883  5.25  5.29  3.16\n",
       "11721   0.34      Ideal     E     SI1   61.8   56.0    596  4.45  4.48  2.76\n",
       "22755   2.01       Fair     H     SI2   66.7   56.0  10772  7.80  7.76  5.19\n",
       "29220   0.34      Ideal     I      IF   61.3   55.0    695  4.52  4.55  2.78\n",
       "53886   0.70       Good     D     VS2   58.0   62.0   2749  5.78  5.87  3.38\n",
       "6939    1.00       Fair     E     SI1   66.3   62.0   4140  6.27  6.06  4.09\n",
       "48868   0.78  Very Good     J     SI1   59.4   62.0   2035  6.01  6.05  3.58\n",
       "10061   0.35       Good     F     SI2   63.8   56.0    591  4.48  4.45  2.85"
      ]
     },
     "execution_count": 43,
     "metadata": {},
     "output_type": "execute_result"
    }
   ],
>>>>>>> parent of 6604a15 (Additon of 3 univariable plots, 6 two variable plots and three variable section)
   "source": [
    "no_outlier_df = new_diamond_df[(new_diamond_df['Carat'] > 0) & (new_diamond_df['Depth'] > 0) & (new_diamond_df['Table'] > 0) & (new_diamond_df['X'] > 0) & (new_diamond_df['Y'] > 0) & (new_diamond_df['Z'] > 0)]\n",
    "no_outlier_df.sample(10, random_state=99)"
   ]
  },
  {
   "cell_type": "markdown",
   "metadata": {},
   "source": [
    "For categorical features, an outlier is defined as a value that doesn't fit the previously defined observations of a feature. There are no problematic observations. Thus, requires no changes to the dataset."
   ]
  },
  {
   "cell_type": "markdown",
   "metadata": {},
   "source": [
    "### Encoding categorical descriptive features"
   ]
  },
  {
   "cell_type": "markdown",
   "metadata": {},
   "source": [
    "To make the categorical features readable to a machine. The technique of integer encoding for all categorical features, since they all contain an obvious order to the unique observations. In doing so, the values in observations will fit the theme. Where zero represents the relatively worst value for the feature, and the highest number represent the best value for the feature."
   ]
  },
  {
   "cell_type": "markdown",
   "metadata": {},
   "source": [
    "The table below is a sample of the observations that changed to fit these conditions."
   ]
  },
  {
   "cell_type": "code",
   "execution_count": null,
   "metadata": {},
   "outputs": [],
   "source": [
    "cleanup =  {\"Cut\": {\"Fair\": 0, \"Good\": 1, \"Very Good\": 2, \"Premium\": 3, \"Ideal\": 4},\n",
    "            \"Color\": {\"D\": 0, \"E\": 1, \"F\": 2, \"G\": 3, \"H\": 4, \"I\": 5, \"J\":6},\n",
    "            \"Clarity\": {\"I1\": 0, \"SI2\": 1, \"SI1\": 2, \"VS2\": 3, \"VS1\": 4, \"VVS2\": 5, \"VVS1\": 6, \"IF\": 7}}\n",
    "IE_diamond_df = no_outlier_df.replace(cleanup)"
   ]
  },
  {
   "cell_type": "code",
   "execution_count": null,
   "metadata": {},
   "outputs": [],
   "source": [
    "IE_diamond_df.sample(10, random_state=99)"
   ]
  },
  {
   "cell_type": "code",
   "execution_count": null,
   "metadata": {},
   "outputs": [],
   "source": [
    "IE_diamond_df[\"Cut\"].()"
   ]
  },
  {
   "cell_type": "markdown",
   "metadata": {},
   "source": [
    "## Data Exploration and Visualisation\n",
    "\n",
    "Our dataset is now considered to be clean and we are ready to start visualising and explore each of the features."
   ]
  },
  {
   "cell_type": "markdown",
   "metadata": {},
   "source": [
    "### Univariate Visualisation"
   ]
  },
  {
   "cell_type": "markdown",
   "metadata": {},
   "source": [
    "#### Distribution Plot of Color\n",
    "\n",
    "We count the Color gradients to see which color has the highest count in diamonds. As we can see in Figure 1, the I gradient is the most abundant variation compared to others."
   ]
  },
  {
   "cell_type": "code",
<<<<<<< HEAD
   "execution_count": null,
   "metadata": {},
   "outputs": [],
=======
   "execution_count": 44,
   "metadata": {},
   "outputs": [
    {
     "data": {
      "image/png": "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",
      "text/plain": [
       "<Figure size 1008x576 with 1 Axes>"
      ]
     },
     "metadata": {
      "image/png": {
       "height": 496,
       "width": 844
      }
     },
     "output_type": "display_data"
    }
   ],
>>>>>>> parent of 6604a15 (Additon of 3 univariable plots, 6 two variable plots and three variable section)
   "source": [
    "plt.figure(figsize = (14,8))\n",
    "fig = sns.histplot(new_diamond_df['Color'], discrete=True)\n",
    "fig.set_xticks(new_diamond_df['Color'].unique())\n",
    "fig.set_xticklabels(['D','E','F','G','H','I','J'])\n",
    "fig = plt.title('Figure 1: Color gradient distribution for Diamonds', fontsize = 15)\n",
    "plt.show()"
   ]
  },
  {
   "cell_type": "markdown",
   "metadata": {},
   "source": [
    "#### Distribution Plot of Cut\n",
    "\n",
    "We count the Cut grades to see which cut has the highest count in diamonds. As we can see in Figure 1, the the 'Fair' cut grade is the most abundant variation compared to others."
   ]
  },
  {
   "cell_type": "code",
<<<<<<< HEAD
   "execution_count": null,
   "metadata": {},
   "outputs": [],
=======
   "execution_count": 45,
   "metadata": {},
   "outputs": [
    {
     "data": {
      "image/png": "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",
      "text/plain": [
       "<Figure size 1008x576 with 1 Axes>"
      ]
     },
     "metadata": {
      "image/png": {
       "height": 496,
       "width": 844
      }
     },
     "output_type": "display_data"
    }
   ],
>>>>>>> parent of 6604a15 (Additon of 3 univariable plots, 6 two variable plots and three variable section)
   "source": [
    "plt.figure(figsize = (14,8))\n",
    "fig = sns.histplot(new_diamond_df['Cut'], discrete=True)\n",
    "fig.set_xticks(new_diamond_df['Cut'].unique())\n",
    "fig.set_xticklabels(['Fair','Good','Very Good','Premium','Ideal'])\n",
    "fig = plt.title('Figure 2: Cut grade distribution for Diamonds', fontsize = 15)\n",
    "plt.show()"
   ]
  },
  {
   "cell_type": "markdown",
   "metadata": {},
   "source": [
    "#### Boxplot of Clarity\n",
    "\n",
    "The boxplot demonstrates the deviation in Clarities in diamonds. From the results, we can get that Clarities of SI1, VS2, and VS1 are most common.\n",
    "\n",
    "Boxplot legend:\n",
    "- 1 -> I1 (worst)\n",
    "- 2 -> SI2\n",
    "- 3 -> SI1\n",
    "- 4 -> VS2\n",
    "- 5 -> VS1\n",
    "- 6 -> VVS2\n",
    "- 7 -> VVS1\n",
    "- 8 -> IF (best)"
   ]
  },
  {
   "cell_type": "code",
<<<<<<< HEAD
   "execution_count": null,
=======
   "execution_count": 57,
>>>>>>> parent of 6604a15 (Additon of 3 univariable plots, 6 two variable plots and three variable section)
   "metadata": {},
   "outputs": [],
   "source": [
    "plt.figure(figsize = (14,6))\n",
    "b1_df = new_diamond_df.copy()\n",
    "\n",
    "b1_df.Clarity[b1_df.Clarity == 'I1'] = 1\n",
    "b1_df.Clarity[b1_df.Clarity == 'SI2'] = 2\n",
    "b1_df.Clarity[b1_df.Clarity == 'SI1'] = 3\n",
    "b1_df.Clarity[b1_df.Clarity == 'VS2'] = 4\n",
    "b1_df.Clarity[b1_df.Clarity == 'VS1'] = 5\n",
    "b1_df.Clarity[b1_df.Clarity == 'VVS2'] = 6\n",
    "b1_df.Clarity[b1_df.Clarity == 'VVS1'] = 7\n",
    "b1_df.Clarity[b1_df.Clarity == 'IF'] = 8\n",
    "\n",
    "fig = sns.boxplot(b1_df['Clarity']).set_title('Figure 3: Box Plot of Clarity', fontsize = 15)\n",
    "plt.show()"
   ]
  },
  {
   "cell_type": "markdown",
   "metadata": {},
   "source": [
    "## Summary and Conclusions"
   ]
  },
  {
   "cell_type": "markdown",
   "metadata": {},
   "source": [
    "> YEEEEEEEEEEEEEEE"
   ]
  },
  {
   "cell_type": "markdown",
   "metadata": {},
   "source": [
    "## References"
   ]
  },
  {
   "cell_type": "markdown",
   "metadata": {},
   "source": [
    "- Agrawal, S.. Diamonds (Kaggle). Retrieved September 26, 2022 from https://www.kaggle.com/datasets/shivam2503/diamonds"
   ]
  }
 ],
 "metadata": {
  "colab": {
   "collapsed_sections": [],
   "provenance": []
  },
  "kernelspec": {
   "display_name": "Python 3.9.13 64-bit",
   "language": "python",
   "name": "python3"
  },
  "language_info": {
   "codemirror_mode": {
    "name": "ipython",
    "version": 3
   },
   "file_extension": ".py",
   "mimetype": "text/x-python",
   "name": "python",
   "nbconvert_exporter": "python",
   "pygments_lexer": "ipython3",
   "version": "3.9.13"
  },
  "vscode": {
   "interpreter": {
    "hash": "b4b143841983770d84c176b1c8a7e0132d51e8f6de409b808c1e8da94e3c5037"
   }
  }
 },
 "nbformat": 4,
 "nbformat_minor": 1
}
