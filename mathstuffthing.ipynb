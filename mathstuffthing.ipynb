{
 "cells": [
  {
   "cell_type": "markdown",
   "metadata": {},
   "source": [
    "# Predicting Diamond Prices\n",
    "## Phase 1: Data Preparation & Visualisation"
   ]
  },
  {
   "cell_type": "markdown",
   "metadata": {},
   "source": [
    "#### Group Number: Group 57\n",
    "\n",
    "#### Name(s) & ID(s) of Group Members: \n",
    "- Eddie Ton (s3948609)\n",
    "- Jabbar Baloghlan (s3890406)\n",
    "- Tyler Xia (s3945694)"
   ]
  },
  {
   "cell_type": "markdown",
   "metadata": {},
   "source": [
    "## Table of Contents\n",
    "* [Introduction](#itr) \n",
    "  + [Dataset Source](#Dataset-Source)\n",
    "  + [Dataset Details](#Dataset-Details)\n",
    "  + [Dataset Features](#Dataset-Features)\n",
    "  + [Target Feature](#Target-Feature)\n",
    "* [Goals and Objectives](#Goals-and-Objectives)\n",
    "* [Data Cleaning and Preprocessing](#Data-Cleaning-and-Preprocessing)\n",
    "* [Data Exploration and Visualisation](#Data-Exploration-and-Visualisation)\n",
    "* [Summary and Conclusion](#Summary-and-Conclusion)\n",
    "* [References](#References)"
   ]
  },
  {
   "cell_type": "markdown",
   "metadata": {},
   "source": [
    "## Introduction <a id='itr'></a>"
   ]
  },
  {
   "cell_type": "markdown",
   "metadata": {},
   "source": [
    "### Dataset source"
   ]
  },
  {
   "cell_type": "markdown",
   "metadata": {},
   "source": [
    "The Diamond dataset used in study was sourced from Kaggle (Shivam Agrawal, 2021). This dataset contains various details and properties of diamonds."
   ]
  },
  {
   "cell_type": "markdown",
   "metadata": {},
   "source": [
    "### Dataset Details"
   ]
  },
  {
   "cell_type": "markdown",
   "metadata": {},
   "source": [
    "The dataset is about diamonds, and any properties that can describe them up to date. Those include: dimensions(x,y,z), carats, color, depth, clarity, table, cut grade, and price. The variables seem suefficient to attempt and find relation between them and model interrelation to diamond pricing.\n",
    "\n",
    "The edited dataset has a total of 10 features and 5000 observations. Entries with no information have already been removed from the dataset. \n",
    "\n",
    "**Dataset Retrieval**\n",
    "\n",
    "- We read in the dataset from our GitHub repository and load the modules we will use throughout this report.\n",
    "- We display 10 randomly sampled rows from this dataset."
   ]
  },
  {
   "cell_type": "markdown",
   "metadata": {},
   "source": [
    "### Dataset Features"
   ]
  },
  {
   "cell_type": "markdown",
   "metadata": {},
   "source": [
    "The features in our dataset are described in the table below. These descriptions are taken from the Kaggle data source."
   ]
  },
  {
   "cell_type": "code",
   "execution_count": 5,
   "metadata": {},
   "outputs": [
    {
     "name": "stdout",
     "output_type": "stream",
     "text": [
      "╒════════════════╤═════════════════════╤══════════════╤═══════════════════════════════════════════════════════════════════════════════╕\n",
      "│ Name           │ Data Type           │ Units        │ Description                                                                   │\n",
      "╞════════════════╪═════════════════════╪══════════════╪═══════════════════════════════════════════════════════════════════════════════╡\n",
      "│ Suburb         │ Nominal categorical │ NA           │ Suburb of house sold                                                          │\n",
      "├────────────────┼─────────────────────┼──────────────┼───────────────────────────────────────────────────────────────────────────────┤\n",
      "│ Rooms          │ Numeric             │ NA           │ Number of rooms                                                               │\n",
      "├────────────────┼─────────────────────┼──────────────┼───────────────────────────────────────────────────────────────────────────────┤\n",
      "│ Type           │ Nominal categorical │ NA           │ br - bedroom(s); h - house, cottage, villa, semi, terrace;                    │\n",
      "│                │                     │              │ u - unit, duplex; t - townhouse; dev site - development site;                 │\n",
      "│                │                     │              │ o res - other residential.                                                    │\n",
      "├────────────────┼─────────────────────┼──────────────┼───────────────────────────────────────────────────────────────────────────────┤\n",
      "│ Price          │ Numeric             │ AUD          │ Price of house sold                                                           │\n",
      "├────────────────┼─────────────────────┼──────────────┼───────────────────────────────────────────────────────────────────────────────┤\n",
      "│ Method         │ Nominal categorical │ NA           │ S - property sold; SP - property sold prior;                                  │\n",
      "│                │                     │              │ PI - property passed in; PN - sold prior not disclosed; SN -                  │\n",
      "│                │                     │              │ sold not disclosed; NB - no bid; VB - vendor bid; W - withdrawn               │\n",
      "│                │                     │              │ prior to auction; SA - sold after auction; SS - sold after auction            │\n",
      "│                │                     │              │ price not disclosed. N/A - price or highest bid not available.                │\n",
      "├────────────────┼─────────────────────┼──────────────┼───────────────────────────────────────────────────────────────────────────────┤\n",
      "│ SellerG        │ Nominal categorical │ NA           │ Real estate agent                                                             │\n",
      "├────────────────┼─────────────────────┼──────────────┼───────────────────────────────────────────────────────────────────────────────┤\n",
      "│ Date           │ Date                │ dd/mm/yyyy   │ Date sold                                                                     │\n",
      "├────────────────┼─────────────────────┼──────────────┼───────────────────────────────────────────────────────────────────────────────┤\n",
      "│ Distance       │ Numeric             │ KM           │ Distance from Central Business District                                       │\n",
      "├────────────────┼─────────────────────┼──────────────┼───────────────────────────────────────────────────────────────────────────────┤\n",
      "│ Bathroom       │ Numeric             │ NA           │ Number of bathrooms                                                           │\n",
      "├────────────────┼─────────────────────┼──────────────┼───────────────────────────────────────────────────────────────────────────────┤\n",
      "│ Car            │ Numeric             │ NA           │ Number of carspots                                                            │\n",
      "├────────────────┼─────────────────────┼──────────────┼───────────────────────────────────────────────────────────────────────────────┤\n",
      "│ Landsize       │ Numeric             │ Square Meter │ Land size                                                                     │\n",
      "├────────────────┼─────────────────────┼──────────────┼───────────────────────────────────────────────────────────────────────────────┤\n",
      "│ Building area  │ Numeric             │ Square Meter │ Building size                                                                 │\n",
      "├────────────────┼─────────────────────┼──────────────┼───────────────────────────────────────────────────────────────────────────────┤\n",
      "│ Year built     │ Date                │ year         │ Year the house was built                                                      │\n",
      "├────────────────┼─────────────────────┼──────────────┼───────────────────────────────────────────────────────────────────────────────┤\n",
      "│ Council area   │ Nominal categorical │ NA           │ Governing council for the area                                                │\n",
      "├────────────────┼─────────────────────┼──────────────┼───────────────────────────────────────────────────────────────────────────────┤\n",
      "│ Lattitude      │ Numeric             │ Degree       │ Lattitude                                                                     │\n",
      "├────────────────┼─────────────────────┼──────────────┼───────────────────────────────────────────────────────────────────────────────┤\n",
      "│ Longtitude     │ Numeric             │ Degree       │ Longtitude                                                                    │\n",
      "├────────────────┼─────────────────────┼──────────────┼───────────────────────────────────────────────────────────────────────────────┤\n",
      "│ Region name    │ Nominal categorical │ NA           │ General Region (West, North West, etc)                                        │\n",
      "├────────────────┼─────────────────────┼──────────────┼───────────────────────────────────────────────────────────────────────────────┤\n",
      "│ Property count │ Numeric             │ NA           │ Number of properties that exist in the suburb                                 │\n",
      "╘════════════════╧═════════════════════╧══════════════╧═══════════════════════════════════════════════════════════════════════════════╛\n"
     ]
    }
   ],
   "source": [
    "from tabulate import tabulate\n",
    "\n",
    "table = [['Name','Data Type','Units','Description'],\n",
    "         ['Suburb','Nominal categorical','NA','Suburb of house sold'],\n",
    "         ['Rooms','Numeric','NA','Number of rooms'],\n",
    "         ['Type','Nominal categorical','NA','br - bedroom(s); h - house, cottage, villa, semi, terrace; \\\n",
    "          \\nu - unit, duplex; t - townhouse; dev site - development site; \\no res - other residential.'],\n",
    "         ['Price','Numeric','AUD','Price of house sold'],\n",
    "         ['Method','Nominal categorical','NA','S - property sold; SP - property sold prior; \\\n",
    "         \\nPI - property passed in; PN - sold prior not disclosed; SN - \\\n",
    "          \\nsold not disclosed; NB - no bid; VB - vendor bid; W - withdrawn \\\n",
    "          \\nprior to auction; SA - sold after auction; SS - sold after auction \\\n",
    "          \\nprice not disclosed. N/A - price or highest bid not available.'],\n",
    "         ['SellerG','Nominal categorical','NA','Real estate agent'],\n",
    "         ['Date','Date','dd/mm/yyyy','Date sold'],\n",
    "         ['Distance','Numeric','KM','Distance from Central Business District'],\n",
    "         ['Bathroom','Numeric','NA','Number of bathrooms'],\n",
    "         ['Car','Numeric','NA','Number of carspots'],\n",
    "         ['Landsize','Numeric','Square Meter','Land size'],\n",
    "         ['Building area','Numeric','Square Meter','Building size'],\n",
    "         ['Year built','Date','year','Year the house was built'],\n",
    "         ['Council area','Nominal categorical','NA','Governing council for the area'],\n",
    "         ['Lattitude','Numeric','Degree','Lattitude'],\n",
    "         ['Longtitude','Numeric','Degree','Longtitude'],\n",
    "         ['Region name','Nominal categorical','NA','General Region (West, North West, etc)'],\n",
    "         ['Property count','Numeric','NA','Number of properties that exist in the suburb']]\n",
    "\n",
    "print(tabulate(table, headers='firstrow', tablefmt='fancy_grid'))"
   ]
  },
  {
   "cell_type": "markdown",
   "metadata": {},
   "source": [
    "### Target Feature"
   ]
  },
  {
   "cell_type": "markdown",
   "metadata": {},
   "source": [
    "For this project, the target feature in this dataset will be the diamond price in Australian dollars. That is, the price of diamonds will be predicted based on the explanatory/ descriptive variables. "
   ]
  },
  {
   "cell_type": "markdown",
   "metadata": {},
   "source": [
    "## Goals and Objectives"
   ]
  },
  {
   "cell_type": "markdown",
   "metadata": {},
   "source": [
    "Diamond prices have a very complex calculation system. A model that could acurately predict/set diamond prices is absolutely a requirment. For instance, a jewelrer would need such a model to correctly state the properties of the diamonds after the work ahs been done. Similarly, a store selling diamons could use such a model to determine the price to sell the diamond at. \n",
    "\n",
    "Thus, the main objective of this project is two-fold: (1) predict the price of diamonds based on the publically available properties of diamonds available, and (2) which features seem to be the best predictors of the diamond sale price. A secondary objective is to perform some exploratory data analysis by basic descriptive statistics & data visualisation plots to gain some insight into the patterns and relationships existing in the data subsequent to some data cleaning & preprocessing, which is the subject of this Phase 1 report.\n",
    "\n",
    "At this point, we make the important assumption that rows in our dataset are not correlated. That is, we assume that house price observations are independent of one another in this dataset. Of course, this is not a very realistic assumption, however, this assumption allows us to circumvent time series aspects of the underlying dynamics of diamond prices and also to resort to rather classical predictive models such as multiple linear regression."
   ]
  },
  {
   "cell_type": "markdown",
   "metadata": {},
   "source": [
    "## Data Cleaning and Preprocessing\n",
    "\n",
    "In this section, we describe the data cleaning and preprocessing steps undertaken for this project."
   ]
  },
  {
   "cell_type": "markdown",
   "metadata": {},
   "source": [
    "> TYLERRRRRRRRRRRRRRRRRRR"
   ]
  },
  {
   "cell_type": "markdown",
   "metadata": {},
   "source": [
    "## Data Exploration and Visualisation\n",
    "\n",
    "Our dataset is now considered to be clean and we are ready to start visualising and explore each of the features."
   ]
  },
  {
   "cell_type": "markdown",
   "metadata": {},
   "source": [
    "> LATERRRRRRR"
   ]
  },
  {
   "cell_type": "markdown",
   "metadata": {},
   "source": [
    "## Summary and Conclusions"
   ]
  },
  {
   "cell_type": "markdown",
   "metadata": {},
   "source": [
    "> YEEEEEEEEEEEEEEE"
   ]
  },
  {
   "cell_type": "markdown",
   "metadata": {},
   "source": [
    "## References"
   ]
  },
  {
   "cell_type": "markdown",
   "metadata": {},
   "source": [
    "- Agrawal, S.. Diamonds (Kaggle). Retrieved September 26, 2022 from https://www.kaggle.com/datasets/shivam2503/diamonds"
   ]
  }
 ],
 "metadata": {
  "colab": {
   "collapsed_sections": [],
   "provenance": []
  },
  "kernelspec": {
   "display_name": "Python 3.9.12 ('base')",
   "language": "python",
   "name": "python3"
  },
  "language_info": {
   "codemirror_mode": {
    "name": "ipython",
    "version": 3
   },
   "file_extension": ".py",
   "mimetype": "text/x-python",
   "name": "python",
   "nbconvert_exporter": "python",
   "pygments_lexer": "ipython3",
   "version": "3.9.12"
  },
  "vscode": {
   "interpreter": {
    "hash": "ca4daa456bdb90d71576850cf35a57821d28fe4fae1025db71d286b051147a28"
   }
  }
 },
 "nbformat": 4,
 "nbformat_minor": 1
}
