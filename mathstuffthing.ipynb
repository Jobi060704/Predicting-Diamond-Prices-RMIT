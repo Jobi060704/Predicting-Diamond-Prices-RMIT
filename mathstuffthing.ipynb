{
 "cells": [
  {
   "cell_type": "markdown",
   "metadata": {},
   "source": [
    "# Predicting Diamond Prices\n",
    "## Phase 1: Data Preparation & Visualisation"
   ]
  },
  {
   "cell_type": "markdown",
   "metadata": {},
   "source": [
    "#### Group Number: Group 57\n",
    "\n",
    "#### Name(s) & ID(s) of Group Members: \n",
    "- Eddie Ton (s3948609)\n",
    "- Jabbar Baloghlan (s3890406)\n",
    "- Tyler Xia (s3945694)"
   ]
  },
  {
   "cell_type": "markdown",
   "metadata": {},
   "source": [
    "## Table of Contents\n",
    "* [Introduction](#itr) \n",
    "  + [Dataset Source](#Dataset-Source)\n",
    "  + [Dataset Details](#Dataset-Details)\n",
    "  + [Dataset Features](#Dataset-Features)\n",
    "  + [Target Feature](#Target-Feature)\n",
    "* [Goals and Objectives](#Goals-and-Objectives)\n",
    "* [Data Cleaning and Preprocessing](#Data-Cleaning-and-Preprocessing)\n",
    "* [Data Exploration and Visualisation](#Data-Exploration-and-Visualisation)\n",
    "* [Summary and Conclusion](#Summary-and-Conclusion)\n",
    "* [References](#References)"
   ]
  },
  {
   "cell_type": "markdown",
   "metadata": {},
   "source": [
    "## Introduction"
   ]
  },
  {
   "cell_type": "markdown",
   "metadata": {},
   "source": [
    "### Dataset Source"
   ]
  },
  {
   "cell_type": "markdown",
   "metadata": {},
   "source": [
    "The Diamond dataset used in study was sourced from Kaggle (Shivam Agrawal, 2021). This dataset contains various details and properties of diamonds."
   ]
  },
  {
   "cell_type": "markdown",
   "metadata": {},
   "source": [
    "### Dataset Details"
   ]
  },
  {
   "cell_type": "markdown",
   "metadata": {},
   "source": [
    "asd"
   ]
  },
  {
   "cell_type": "code",
   "execution_count": null,
   "metadata": {},
   "outputs": [],
   "source": [
    "import warnings\n",
    "warnings.filterwarnings(\"ignore\")\n",
    "\n",
    "import numpy as np\n",
    "import pandas as pd\n",
    "import io\n",
    "import requests\n",
    "\n",
    "pd.set_option('display.max_columns', None) \n",
    "\n",
    "###\n",
    "import matplotlib.pyplot as plt\n",
    "import seaborn as sns\n",
    "%matplotlib inline \n",
    "%config InlineBackend.figure_format = 'retina'\n",
    "plt.style.use(\"seaborn\")\n",
    "###"
   ]
  },
  {
   "cell_type": "code",
   "execution_count": null,
   "metadata": {},
   "outputs": [],
   "source": [
    "# name of the dataset to be imported from our GitHub account\n",
    "df_name = 'diamonds.csv'\n",
    "df_url = 'https://raw.githubusercontent.com/Jobi060704/math_files/' + df_name\n",
    "url_content = requests.get(df_url, verify=False).content\n",
    "diamond_df = pd.read_csv(io.StringIO(url_content.decode('utf-8')))"
   ]
  },
  {
   "cell_type": "code",
   "execution_count": null,
   "metadata": {},
   "outputs": [],
   "source": [
    "diamond_df.sample(10, random_state=999)"
   ]
  },
  {
   "cell_type": "markdown",
   "metadata": {},
   "source": [
    "### Dataset Variables"
   ]
  },
  {
   "cell_type": "markdown",
   "metadata": {},
   "source": [
    "asd"
   ]
  },
  {
   "cell_type": "code",
   "execution_count": null,
   "metadata": {},
   "outputs": [],
   "source": [
    "from tabulate import tabulate\n",
    "\n",
    "table = [['Name','Data Type','Units','Description'],\n",
    "        ]\n",
    "\n",
    "print(tabulate(table, headers='firstrow', tablefmt='fancy_grid'))"
   ]
  },
  {
   "cell_type": "code",
   "execution_count": null,
   "metadata": {},
   "outputs": [],
   "source": [
    "# Remove all 0.0 from cuts\n",
    "diamond_df['cut_Fair'] = diamond_df['cut_Fair'].replace(0.0, '')\n",
    "diamond_df['cut_Good'] = diamond_df['cut_Good'].replace(0.0, '')\n",
    "diamond_df['cut_Ideal'] = diamond_df['cut_Ideal'].replace(0.0, '')\n",
    "diamond_df['cut_Premium'] = diamond_df['cut_Premium'].replace(0.0, '')\n",
    "diamond_df['cut_Very Good'] = diamond_df['cut_Very Good'].replace(0.0, '')\n",
    "\n",
    "# Replace 1.0 with letters\n",
    "diamond_df['cut_Fair'] = diamond_df['cut_Fair'].replace(1.0, 'F')\n",
    "diamond_df['cut_Good'] = diamond_df['cut_Good'].replace(1.0, 'G')\n",
    "diamond_df['cut_Ideal'] = diamond_df['cut_Ideal'].replace(1.0, 'I')\n",
    "diamond_df['cut_Premium'] = diamond_df['cut_Premium'].replace(1.0, 'P')\n",
    "diamond_df['cut_Very Good'] = diamond_df['cut_Very Good'].replace(1.0, 'VG')\n",
    "\n",
    "# Combine cuts into one column\n",
    "diamond_df['Cut Type'] = diamond_df['cut_Fair'] + diamond_df['cut_Good'] + diamond_df['cut_Ideal'] + diamond_df['cut_Premium'] + diamond_df['cut_Very Good']\n",
    "\n",
    "# Drop old cuts\n",
    "dropped_diamond_df = diamond_df.drop(['cut_Fair', 'cut_Good', 'cut_Ideal', 'cut_Premium', 'cut_Very Good', ], axis=1)\n",
    "\n",
    "dropped_diamond_df.sample(10, random_state=999)"
   ]
  }
 ],
 "metadata": {
  "colab": {
   "collapsed_sections": [],
   "provenance": []
  },
  "kernelspec": {
   "display_name": "Python 3.9.13 64-bit",
   "language": "python",
   "name": "python3"
  },
  "language_info": {
   "codemirror_mode": {
    "name": "ipython",
    "version": 3
   },
   "file_extension": ".py",
   "mimetype": "text/x-python",
   "name": "python",
   "nbconvert_exporter": "python",
   "pygments_lexer": "ipython3",
   "version": "3.9.13"
  },
  "vscode": {
   "interpreter": {
    "hash": "143d9e705fff7213fa667708909a7be8d9a738c102f90c67c4507a589dea5489"
   }
  }
 },
 "nbformat": 4,
 "nbformat_minor": 1
}
