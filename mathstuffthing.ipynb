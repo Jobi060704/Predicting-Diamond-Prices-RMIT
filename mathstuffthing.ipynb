{
 "cells": [
  {
   "cell_type": "markdown",
   "metadata": {},
   "source": [
    "# Predicting Diamond Prices\n",
    "## Phase 1: Data Preparation & Visualisation"
   ]
  },
  {
   "cell_type": "markdown",
   "metadata": {},
   "source": [
    "#### Group Number: Group 57\n",
    "\n",
    "#### Name(s) & ID(s) of Group Members: \n",
    "- Eddie Ton (s3948609)\n",
    "- Jabbar Baloghlan (s3890406)\n",
    "- Tyler Xia (s3945694)"
   ]
  },
  {
   "cell_type": "markdown",
   "metadata": {},
   "source": [
    "## Table of Contents"
   ]
  },
  {
   "cell_type": "markdown",
   "metadata": {},
   "source": [
    "## Introduction"
   ]
  },
  {
   "cell_type": "markdown",
   "metadata": {},
   "source": [
    "### Dataset Source"
   ]
  },
  {
   "cell_type": "markdown",
   "metadata": {},
   "source": [
    "asd"
   ]
  },
  {
   "cell_type": "markdown",
   "metadata": {},
   "source": [
    "### Dataset Details"
   ]
  },
  {
   "cell_type": "markdown",
   "metadata": {},
   "source": [
    "asd"
   ]
  },
  {
   "cell_type": "markdown",
   "metadata": {},
   "source": [
    "## Table of Contents\n",
    "* [Introduction](#itr) \n",
    "  + [Dataset Source](#Dataset-Source)\n",
    "  + [Dataset Details](#Dataset-Details)\n",
    "  + [Dataset Features](#Dataset-Features)\n",
    "  + [Target Feature](#Target-Feature)\n",
    "* [Goals and Objectives](#Goals-and-Objectives)\n",
    "* [Data Cleaning and Preprocessing](#Data-Cleaning-and-Preprocessing)\n",
    "* [Data Exploration and Visualisation](#Data-Exploration-and-Visualisation)\n",
    "* [Summary and Conclusion](#Summary-and-Conclusion)\n",
    "* [References](#References)"
   ]
  },
  {
   "cell_type": "markdown",
   "metadata": {},
   "source": [
    "## Introduction <a id='itr'></a>"
   ]
  },
  {
   "cell_type": "markdown",
   "metadata": {},
   "source": [
    "### Dataset source"
   ]
  },
  {
   "cell_type": "markdown",
   "metadata": {},
   "source": [
    "The Diamond dataset used in study was sourced from Kaggle (Shivam Agrawal, 2021). This dataset contains various details and properties of diamonds."
   ]
  },
  {
   "cell_type": "markdown",
   "metadata": {},
   "source": [
    "### Dataset Variables"
   ]
  },
  {
   "cell_type": "markdown",
   "metadata": {},
   "source": [
    "asd"
   ]
  },
  {
   "cell_type": "code",
   "execution_count": null,
   "metadata": {},
   "outputs": [],
   "source": [
    "from tabulate import tabulate\n",
    "\n",
    "table = [['Name','Data Type','Units','Description'],\n",
    "         ['Suburb','Nominal categorical','NA','Suburb of house sold'],\n",
    "         ['Rooms','Numeric','NA','Number of rooms'],\n",
    "         ['Type','Nominal categorical','NA','br - bedroom(s); h - house, cottage, villa, semi, terrace; \\\n",
    "          \\nu - unit, duplex; t - townhouse; dev site - development site; \\no res - other residential.'],\n",
    "         ['Price','Numeric','AUD','Price of house sold'],\n",
    "         ['Method','Nominal categorical','NA','S - property sold; SP - property sold prior; \\\n",
    "         \\nPI - property passed in; PN - sold prior not disclosed; SN - \\\n",
    "          \\nsold not disclosed; NB - no bid; VB - vendor bid; W - withdrawn \\\n",
    "          \\nprior to auction; SA - sold after auction; SS - sold after auction \\\n",
    "          \\nprice not disclosed. N/A - price or highest bid not available.'],\n",
    "         ['SellerG','Nominal categorical','NA','Real estate agent'],\n",
    "         ['Date','Date','dd/mm/yyyy','Date sold'],\n",
    "         ['Distance','Numeric','KM','Distance from Central Business District'],\n",
    "         ['Bathroom','Numeric','NA','Number of bathrooms'],\n",
    "         ['Car','Numeric','NA','Number of carspots'],\n",
    "         ['Landsize','Numeric','Square Meter','Land size'],\n",
    "         ['Building area','Numeric','Square Meter','Building size'],\n",
    "         ['Year built','Date','year','Year the house was built'],\n",
    "         ['Council area','Nominal categorical','NA','Governing council for the area'],\n",
    "         ['Lattitude','Numeric','Degree','Lattitude'],\n",
    "         ['Longtitude','Numeric','Degree','Longtitude'],\n",
    "         ['Region name','Nominal categorical','NA','General Region (West, North West, etc)'],\n",
    "         ['Property count','Numeric','NA','Number of properties that exist in the suburb']]\n",
    "\n",
    "print(tabulate(table, headers='firstrow', tablefmt='fancy_grid'))"
   ]
  }
 ],
 "metadata": {
  "colab": {
   "collapsed_sections": [],
   "provenance": []
  },
  "kernelspec": {
   "display_name": "Python 3.9.13 64-bit",
   "language": "python",
   "name": "python3"
  },
  "language_info": {
   "codemirror_mode": {
    "name": "ipython",
    "version": 3
   },
   "file_extension": ".py",
   "mimetype": "text/x-python",
   "name": "python",
   "nbconvert_exporter": "python",
   "pygments_lexer": "ipython3",
   "version": "3.9.13"
  },
  "vscode": {
   "interpreter": {
    "hash": "143d9e705fff7213fa667708909a7be8d9a738c102f90c67c4507a589dea5489"
   }
  }
 },
 "nbformat": 4,
 "nbformat_minor": 1
}
