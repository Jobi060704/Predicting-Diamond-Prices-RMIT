{
 "cells": [
  {
   "cell_type": "markdown",
   "metadata": {},
   "source": [
    "# Predicting Diamond Prices\n",
    "## Phase 1: Data Preparation & Visualisation"
   ]
  },
  {
   "cell_type": "markdown",
   "metadata": {},
   "source": [
    "#### Group Number: Group 57\n",
    "\n",
    "#### Name(s) & ID(s) of Group Members: \n",
    "- Eddie Ton (s3948609)\n",
    "- Jabbar Baloghlan (s3890406)\n",
    "- Tyler Xia (s3945694)"
   ]
  },
  {
   "cell_type": "markdown",
   "metadata": {},
   "source": [
    "## Table of Contents\n",
    "* [Introduction](#Introduction) \n",
    "  + [Dataset Source](#Dataset-Source)\n",
    "  + [Dataset Details](#Dataset-Details)\n",
    "  + [Dataset Features](#Dataset-Features)\n",
    "  + [Target Feature](#Target-Feature)\n",
    "* [Goals and Objectives](#Goals-and-Objectives)\n",
    "* [Data Cleaning and Preprocessing](#Data-Cleaning-and-Preprocessing)\n",
    "* [Data Exploration and Visualisation](#Data-Exploration-and-Visualisation)\n",
    "* [Summary and Conclusion](#Summary-and-Conclusion)\n",
    "* [References](#References)"
   ]
  },
  {
   "cell_type": "markdown",
   "metadata": {},
   "source": [
    "## Introduction"
   ]
  },
  {
   "cell_type": "markdown",
   "metadata": {},
   "source": [
    "### Dataset Source"
   ]
  },
  {
   "cell_type": "markdown",
   "metadata": {},
   "source": [
    "The Diamond dataset used in study was sourced from Kaggle (Shivam Agrawal, 2021). This dataset contains various details and properties of diamonds based on the Tiffany & Co's snapshot pricelist from 2017."
   ]
  },
  {
   "cell_type": "markdown",
   "metadata": {},
   "source": [
    "### Dataset Details"
   ]
  },
  {
   "cell_type": "markdown",
   "metadata": {},
   "source": [
    "The dataset contains information about the carat, size, quality, colour and the price of a diamond. It also includes information on the depth, the height of a diamond from the middle to its tip. The table, which is the largest surface area on the diamond which is commonly on the top. As well as, the width, length, and height of a diamond. \n",
    "\n",
    "This dataset has 10 features in total and 53941 observations. Diamonds with no price information or missing values have been removed from the dataset."
   ]
  },
  {
   "cell_type": "code",
   "execution_count": 2,
   "metadata": {},
   "outputs": [],
   "source": [
    "import warnings\n",
    "warnings.filterwarnings(\"ignore\")\n",
    "\n",
    "import numpy as np\n",
    "import pandas as pd\n",
    "import io\n",
    "import requests\n",
    "\n",
    "pd.set_option('display.max_columns', None) \n",
    "\n",
    "###\n",
    "import matplotlib.pyplot as plt\n",
    "import seaborn as sns\n",
    "%matplotlib inline \n",
    "%config InlineBackend.figure_format = 'retina'\n",
    "plt.style.use(\"seaborn\")\n",
    "###"
   ]
  },
  {
   "cell_type": "code",
   "execution_count": 3,
   "metadata": {},
   "outputs": [],
   "source": [
    "# name of the dataset to be imported from our GitHub account\n",
    "df_name = 'diamonds.csv'\n",
    "df_url = 'https://raw.githubusercontent.com/Jobi060704/math_files/main/' + df_name\n",
    "url_content = requests.get(df_url, verify=False).content\n",
    "diamond_df = pd.read_csv(io.StringIO(url_content.decode('utf-8')))"
   ]
  },
  {
   "cell_type": "code",
   "execution_count": 4,
   "metadata": {},
   "outputs": [
    {
     "data": {
      "text/html": [
       "<div>\n",
       "<style scoped>\n",
       "    .dataframe tbody tr th:only-of-type {\n",
       "        vertical-align: middle;\n",
       "    }\n",
       "\n",
       "    .dataframe tbody tr th {\n",
       "        vertical-align: top;\n",
       "    }\n",
       "\n",
       "    .dataframe thead th {\n",
       "        text-align: right;\n",
       "    }\n",
       "</style>\n",
       "<table border=\"1\" class=\"dataframe\">\n",
       "  <thead>\n",
       "    <tr style=\"text-align: right;\">\n",
       "      <th></th>\n",
       "      <th>Carat</th>\n",
       "      <th>Cut</th>\n",
       "      <th>Color</th>\n",
       "      <th>Clarity</th>\n",
       "      <th>Depth</th>\n",
       "      <th>Table</th>\n",
       "      <th>Price</th>\n",
       "      <th>X</th>\n",
       "      <th>Y</th>\n",
       "      <th>Z</th>\n",
       "    </tr>\n",
       "  </thead>\n",
       "  <tbody>\n",
       "    <tr>\n",
       "      <th>42653</th>\n",
       "      <td>0.40</td>\n",
       "      <td>Premium</td>\n",
       "      <td>G</td>\n",
       "      <td>IF</td>\n",
       "      <td>60.8</td>\n",
       "      <td>58.0</td>\n",
       "      <td>1333</td>\n",
       "      <td>4.73</td>\n",
       "      <td>4.77</td>\n",
       "      <td>2.89</td>\n",
       "    </tr>\n",
       "    <tr>\n",
       "      <th>4069</th>\n",
       "      <td>0.31</td>\n",
       "      <td>Very Good</td>\n",
       "      <td>D</td>\n",
       "      <td>SI1</td>\n",
       "      <td>63.0</td>\n",
       "      <td>55.0</td>\n",
       "      <td>571</td>\n",
       "      <td>4.32</td>\n",
       "      <td>4.34</td>\n",
       "      <td>2.73</td>\n",
       "    </tr>\n",
       "    <tr>\n",
       "      <th>27580</th>\n",
       "      <td>1.60</td>\n",
       "      <td>Ideal</td>\n",
       "      <td>F</td>\n",
       "      <td>VS2</td>\n",
       "      <td>62.0</td>\n",
       "      <td>55.0</td>\n",
       "      <td>18421</td>\n",
       "      <td>7.49</td>\n",
       "      <td>7.54</td>\n",
       "      <td>4.66</td>\n",
       "    </tr>\n",
       "    <tr>\n",
       "      <th>33605</th>\n",
       "      <td>0.31</td>\n",
       "      <td>Good</td>\n",
       "      <td>D</td>\n",
       "      <td>SI2</td>\n",
       "      <td>63.1</td>\n",
       "      <td>54.0</td>\n",
       "      <td>462</td>\n",
       "      <td>4.33</td>\n",
       "      <td>4.38</td>\n",
       "      <td>2.75</td>\n",
       "    </tr>\n",
       "    <tr>\n",
       "      <th>34415</th>\n",
       "      <td>0.30</td>\n",
       "      <td>Ideal</td>\n",
       "      <td>G</td>\n",
       "      <td>IF</td>\n",
       "      <td>61.2</td>\n",
       "      <td>57.0</td>\n",
       "      <td>863</td>\n",
       "      <td>4.35</td>\n",
       "      <td>4.38</td>\n",
       "      <td>2.67</td>\n",
       "    </tr>\n",
       "    <tr>\n",
       "      <th>46932</th>\n",
       "      <td>0.52</td>\n",
       "      <td>Premium</td>\n",
       "      <td>G</td>\n",
       "      <td>VS1</td>\n",
       "      <td>62.4</td>\n",
       "      <td>60.0</td>\n",
       "      <td>1815</td>\n",
       "      <td>5.12</td>\n",
       "      <td>5.11</td>\n",
       "      <td>3.19</td>\n",
       "    </tr>\n",
       "    <tr>\n",
       "      <th>52243</th>\n",
       "      <td>0.80</td>\n",
       "      <td>Very Good</td>\n",
       "      <td>J</td>\n",
       "      <td>VS1</td>\n",
       "      <td>62.7</td>\n",
       "      <td>58.0</td>\n",
       "      <td>2487</td>\n",
       "      <td>5.91</td>\n",
       "      <td>5.95</td>\n",
       "      <td>3.72</td>\n",
       "    </tr>\n",
       "    <tr>\n",
       "      <th>38855</th>\n",
       "      <td>0.40</td>\n",
       "      <td>Ideal</td>\n",
       "      <td>G</td>\n",
       "      <td>VVS2</td>\n",
       "      <td>62.4</td>\n",
       "      <td>56.0</td>\n",
       "      <td>1050</td>\n",
       "      <td>4.74</td>\n",
       "      <td>4.72</td>\n",
       "      <td>2.95</td>\n",
       "    </tr>\n",
       "    <tr>\n",
       "      <th>38362</th>\n",
       "      <td>0.33</td>\n",
       "      <td>Ideal</td>\n",
       "      <td>D</td>\n",
       "      <td>VVS2</td>\n",
       "      <td>61.1</td>\n",
       "      <td>56.0</td>\n",
       "      <td>1021</td>\n",
       "      <td>4.46</td>\n",
       "      <td>4.44</td>\n",
       "      <td>2.72</td>\n",
       "    </tr>\n",
       "    <tr>\n",
       "      <th>20258</th>\n",
       "      <td>1.72</td>\n",
       "      <td>Ideal</td>\n",
       "      <td>J</td>\n",
       "      <td>SI1</td>\n",
       "      <td>62.0</td>\n",
       "      <td>57.0</td>\n",
       "      <td>8688</td>\n",
       "      <td>7.66</td>\n",
       "      <td>7.62</td>\n",
       "      <td>4.74</td>\n",
       "    </tr>\n",
       "  </tbody>\n",
       "</table>\n",
       "</div>"
      ],
      "text/plain": [
       "       Carat        Cut Color Clarity  Depth  Table  Price     X     Y     Z\n",
       "42653   0.40    Premium     G      IF   60.8   58.0   1333  4.73  4.77  2.89\n",
       "4069    0.31  Very Good     D     SI1   63.0   55.0    571  4.32  4.34  2.73\n",
       "27580   1.60      Ideal     F     VS2   62.0   55.0  18421  7.49  7.54  4.66\n",
       "33605   0.31       Good     D     SI2   63.1   54.0    462  4.33  4.38  2.75\n",
       "34415   0.30      Ideal     G      IF   61.2   57.0    863  4.35  4.38  2.67\n",
       "46932   0.52    Premium     G     VS1   62.4   60.0   1815  5.12  5.11  3.19\n",
       "52243   0.80  Very Good     J     VS1   62.7   58.0   2487  5.91  5.95  3.72\n",
       "38855   0.40      Ideal     G    VVS2   62.4   56.0   1050  4.74  4.72  2.95\n",
       "38362   0.33      Ideal     D    VVS2   61.1   56.0   1021  4.46  4.44  2.72\n",
       "20258   1.72      Ideal     J     SI1   62.0   57.0   8688  7.66  7.62  4.74"
      ]
     },
     "execution_count": 4,
     "metadata": {},
     "output_type": "execute_result"
    }
   ],
   "source": [
    "new_diamond_df = diamond_df.drop(columns=diamond_df.columns[0])\n",
    "new_diamond_df.sample(10, random_state=99)"
   ]
  },
  {
   "cell_type": "markdown",
   "metadata": {},
   "source": [
    "### Dataset Features"
   ]
  },
  {
   "cell_type": "markdown",
   "metadata": {},
   "source": [
    "The features in our dataset are described in the table below. These descriptions are taken from the Kaggle data source."
   ]
  },
  {
   "cell_type": "code",
   "execution_count": 5,
   "metadata": {},
   "outputs": [
    {
     "name": "stdout",
     "output_type": "stream",
     "text": [
      "╒═════════╤═════════════════════╤═════════════╤═══════════════════════════════════════════════════════════╕\n",
      "│ Name    │ Data Type           │ Units       │ Description                                               │\n",
      "╞═════════╪═════════════════════╪═════════════╪═══════════════════════════════════════════════════════════╡\n",
      "│ Carat   │ Numeric             │ Carat       │ Weight of the diamond                                     │\n",
      "├─────────┼─────────────────────┼─────────────┼───────────────────────────────────────────────────────────┤\n",
      "│ Cut     │ Ordinal Categorical │ NA          │ Quality of the cut:                                       │\n",
      "│         │                     │             │ - Fair                                                    │\n",
      "│         │                     │             │ - Good                                                    │\n",
      "│         │                     │             │ - Very Good                                               │\n",
      "│         │                     │             │ - Premium                                                 │\n",
      "│         │                     │             │ - Ideal                                                   │\n",
      "├─────────┼─────────────────────┼─────────────┼───────────────────────────────────────────────────────────┤\n",
      "│ Color   │ Ordinal Categorical │ NA          │ Diamond colour, from J (worst) to D (best)                │\n",
      "├─────────┼─────────────────────┼─────────────┼───────────────────────────────────────────────────────────┤\n",
      "│ Clarity │ Ordinal Categorical │ NA          │ A measurement of the clarity of a diamond:                │\n",
      "│         │                     │             │ - I1 (worst)                                              │\n",
      "│         │                     │             │ - SI2                                                     │\n",
      "│         │                     │             │ - SI1                                                     │\n",
      "│         │                     │             │ - VS2                                                     │\n",
      "│         │                     │             │ - VS1                                                     │\n",
      "│         │                     │             │ - VVS2                                                    │\n",
      "│         │                     │             │ - VVS1                                                    │\n",
      "│         │                     │             │ - IF (best)                                               │\n",
      "├─────────┼─────────────────────┼─────────────┼───────────────────────────────────────────────────────────┤\n",
      "│ Depth   │ Numeric             │ Percent     │ Total depth percentage = z / mean(x, y) = 2 * z / (x + y) │\n",
      "├─────────┼─────────────────────┼─────────────┼───────────────────────────────────────────────────────────┤\n",
      "│ Table   │ Numeric             │ Percent     │ Percentage of a diamonds average diameter                 │\n",
      "│         │                     │             │ of the top section relative to its total diameter         │\n",
      "├─────────┼─────────────────────┼─────────────┼───────────────────────────────────────────────────────────┤\n",
      "│ Price   │ Numeric             │ USD         │ The price of the diamond                                  │\n",
      "├─────────┼─────────────────────┼─────────────┼───────────────────────────────────────────────────────────┤\n",
      "│ X       │ Numeric             │ Millimeters │ Length of a diamond                                       │\n",
      "├─────────┼─────────────────────┼─────────────┼───────────────────────────────────────────────────────────┤\n",
      "│ Y       │ Numeric             │ Millimeters │ Width of a diamond                                        │\n",
      "├─────────┼─────────────────────┼─────────────┼───────────────────────────────────────────────────────────┤\n",
      "│ Z       │ Numeric             │ Millimeters │ Depth of a diamond                                        │\n",
      "╘═════════╧═════════════════════╧═════════════╧═══════════════════════════════════════════════════════════╛\n"
     ]
    }
   ],
   "source": [
    "from tabulate import tabulate\n",
    "\n",
    "table = [['Name','Data Type','Units','Description'],\n",
    "        ['Carat','Numeric','Carat','Weight of the diamond'],\n",
    "        ['Cut','Ordinal Categorical','NA','Quality of the cut:\\\n",
    "            \\n- Fair\\\n",
    "            \\n- Good\\\n",
    "            \\n- Very Good\\\n",
    "            \\n- Premium\\\n",
    "            \\n- Ideal'],\n",
    "        ['Color','Ordinal Categorical','NA','Diamond colour, from J (worst) to D (best)'],\n",
    "        ['Clarity','Ordinal Categorical','NA','A measurement of the clarity of a diamond:\\\n",
    "            \\n- I1 (worst)\\\n",
    "            \\n- SI2\\\n",
    "            \\n- SI1\\\n",
    "            \\n- VS2\\\n",
    "            \\n- VS1\\\n",
    "            \\n- VVS2\\\n",
    "            \\n- VVS1\\\n",
    "            \\n- IF (best)'],\n",
    "        ['Depth','Numeric','Percent','Total depth percentage = z / mean(x, y) = 2 * z / (x + y) '],\n",
    "        ['Table','Numeric','Percent','Percentage of a diamonds average diameter\\nof the top section relative to its total diameter'],\n",
    "        ['Price','Numeric','USD','The price of the diamond'],\n",
    "        ['X','Numeric','Millimeters','Length of a diamond'],\n",
    "        ['Y','Numeric','Millimeters','Width of a diamond'],\n",
    "        ['Z','Numeric','Millimeters','Depth of a diamond']]\n",
    "\n",
    "print(tabulate(table, headers='firstrow', tablefmt='fancy_grid'))"
   ]
  },
  {
   "cell_type": "markdown",
   "metadata": {},
   "source": [
    "### Target Feature"
   ]
  },
  {
   "cell_type": "markdown",
   "metadata": {},
   "source": [
    "For this project, the target feature in this dataset will be the diamond price in US dollars. That is, the price of diamonds will be predicted based on the explanatory/ descriptive variables. "
   ]
  },
  {
   "cell_type": "markdown",
   "metadata": {},
   "source": [
    "## Goals and Objectives"
   ]
  },
  {
   "cell_type": "markdown",
   "metadata": {},
   "source": [
    "Diamond prices have a very complex calculation system. A model that could acurately predict/set diamond prices is absolutely a requirement. For instance, a jeweler would need such a model to correctly state the properties of the diamonds after the work has been done. Similarly, a store selling diamonds could use such a model to determine the price to sell the diamond at. \n",
    "\n",
    "Thus, the main objective of this project is two-fold: (1) predict the price of diamonds based on the publically available properties of diamonds, and (2) which features seem to be the best predictors of the diamond sale price. A secondary objective is to perform some exploratory data analysis by basic descriptive statistics & data visualisation plots to gain some insight into the patterns and relationships existing in the data subsequent to some data cleaning & preprocessing, which is the subject of this Phase 1 report.\n",
    "\n",
    "At this point, we make the important assumption that rows in our dataset are not correlated. That is, we assume that diamond prices are independent of one another in this dataset. Of course, this is not a very realistic assumption, however, this assumption allows us to circumvent time series aspects of the underlying dynamics of diamond prices and also to resort to rather classical predictive models such as multiple linear regression."
   ]
  },
  {
   "cell_type": "markdown",
   "metadata": {},
   "source": [
    "## Data Cleaning and Preprocessing\n",
    "\n",
    "In this section, we describe the data cleaning and preprocessing steps undertaken for this project."
   ]
  },
  {
   "cell_type": "markdown",
   "metadata": {},
   "source": [
    "### Data Cleaning Steps\n",
    "\n",
    "*   Drop irrelevant features in our dataset\n",
    "*   Check and rename/ modify some column names\n",
    "*   Check for missing values\n",
    "*   Remove all the rows with missing values \n",
    "*   Random sampling of the dataset for 5000 rows"
   ]
  },
  {
   "cell_type": "markdown",
   "metadata": {},
   "source": [
    "#### Taking care of outliers and unusual observations\n",
    "\n",
    "For numeric features based on the measurement of the real object of a diamond, the observation of the numeric features cannot be equal to zero or any negative values. Additionally, table and depth features must be greater than zero. Since, the features are a percentage between two positive variables."
   ]
  },
  {
   "cell_type": "markdown",
   "metadata": {},
   "source": [
    "The table below are a sample of the observations that fulfill these conditions. All 20 of the problematic observations have been dropped from the dataset."
   ]
  },
  {
   "cell_type": "code",
   "execution_count": 6,
   "metadata": {},
   "outputs": [
    {
     "data": {
      "text/html": [
       "<div>\n",
       "<style scoped>\n",
       "    .dataframe tbody tr th:only-of-type {\n",
       "        vertical-align: middle;\n",
       "    }\n",
       "\n",
       "    .dataframe tbody tr th {\n",
       "        vertical-align: top;\n",
       "    }\n",
       "\n",
       "    .dataframe thead th {\n",
       "        text-align: right;\n",
       "    }\n",
       "</style>\n",
       "<table border=\"1\" class=\"dataframe\">\n",
       "  <thead>\n",
       "    <tr style=\"text-align: right;\">\n",
       "      <th></th>\n",
       "      <th>Carat</th>\n",
       "      <th>Cut</th>\n",
       "      <th>Color</th>\n",
       "      <th>Clarity</th>\n",
       "      <th>Depth</th>\n",
       "      <th>Table</th>\n",
       "      <th>Price</th>\n",
       "      <th>X</th>\n",
       "      <th>Y</th>\n",
       "      <th>Z</th>\n",
       "    </tr>\n",
       "  </thead>\n",
       "  <tbody>\n",
       "    <tr>\n",
       "      <th>49849</th>\n",
       "      <td>0.56</td>\n",
       "      <td>Ideal</td>\n",
       "      <td>D</td>\n",
       "      <td>VS1</td>\n",
       "      <td>62.6</td>\n",
       "      <td>59.0</td>\n",
       "      <td>2170</td>\n",
       "      <td>5.24</td>\n",
       "      <td>5.31</td>\n",
       "      <td>3.30</td>\n",
       "    </tr>\n",
       "    <tr>\n",
       "      <th>9905</th>\n",
       "      <td>1.11</td>\n",
       "      <td>Premium</td>\n",
       "      <td>H</td>\n",
       "      <td>VS1</td>\n",
       "      <td>62.3</td>\n",
       "      <td>57.0</td>\n",
       "      <td>4687</td>\n",
       "      <td>6.67</td>\n",
       "      <td>6.62</td>\n",
       "      <td>4.14</td>\n",
       "    </tr>\n",
       "    <tr>\n",
       "      <th>47696</th>\n",
       "      <td>0.52</td>\n",
       "      <td>Ideal</td>\n",
       "      <td>E</td>\n",
       "      <td>VS1</td>\n",
       "      <td>60.0</td>\n",
       "      <td>56.0</td>\n",
       "      <td>1883</td>\n",
       "      <td>5.25</td>\n",
       "      <td>5.29</td>\n",
       "      <td>3.16</td>\n",
       "    </tr>\n",
       "    <tr>\n",
       "      <th>11721</th>\n",
       "      <td>0.34</td>\n",
       "      <td>Ideal</td>\n",
       "      <td>E</td>\n",
       "      <td>SI1</td>\n",
       "      <td>61.8</td>\n",
       "      <td>56.0</td>\n",
       "      <td>596</td>\n",
       "      <td>4.45</td>\n",
       "      <td>4.48</td>\n",
       "      <td>2.76</td>\n",
       "    </tr>\n",
       "    <tr>\n",
       "      <th>22755</th>\n",
       "      <td>2.01</td>\n",
       "      <td>Fair</td>\n",
       "      <td>H</td>\n",
       "      <td>SI2</td>\n",
       "      <td>66.7</td>\n",
       "      <td>56.0</td>\n",
       "      <td>10772</td>\n",
       "      <td>7.80</td>\n",
       "      <td>7.76</td>\n",
       "      <td>5.19</td>\n",
       "    </tr>\n",
       "    <tr>\n",
       "      <th>29220</th>\n",
       "      <td>0.34</td>\n",
       "      <td>Ideal</td>\n",
       "      <td>I</td>\n",
       "      <td>IF</td>\n",
       "      <td>61.3</td>\n",
       "      <td>55.0</td>\n",
       "      <td>695</td>\n",
       "      <td>4.52</td>\n",
       "      <td>4.55</td>\n",
       "      <td>2.78</td>\n",
       "    </tr>\n",
       "    <tr>\n",
       "      <th>53886</th>\n",
       "      <td>0.70</td>\n",
       "      <td>Good</td>\n",
       "      <td>D</td>\n",
       "      <td>VS2</td>\n",
       "      <td>58.0</td>\n",
       "      <td>62.0</td>\n",
       "      <td>2749</td>\n",
       "      <td>5.78</td>\n",
       "      <td>5.87</td>\n",
       "      <td>3.38</td>\n",
       "    </tr>\n",
       "    <tr>\n",
       "      <th>6939</th>\n",
       "      <td>1.00</td>\n",
       "      <td>Fair</td>\n",
       "      <td>E</td>\n",
       "      <td>SI1</td>\n",
       "      <td>66.3</td>\n",
       "      <td>62.0</td>\n",
       "      <td>4140</td>\n",
       "      <td>6.27</td>\n",
       "      <td>6.06</td>\n",
       "      <td>4.09</td>\n",
       "    </tr>\n",
       "    <tr>\n",
       "      <th>48868</th>\n",
       "      <td>0.78</td>\n",
       "      <td>Very Good</td>\n",
       "      <td>J</td>\n",
       "      <td>SI1</td>\n",
       "      <td>59.4</td>\n",
       "      <td>62.0</td>\n",
       "      <td>2035</td>\n",
       "      <td>6.01</td>\n",
       "      <td>6.05</td>\n",
       "      <td>3.58</td>\n",
       "    </tr>\n",
       "    <tr>\n",
       "      <th>10061</th>\n",
       "      <td>0.35</td>\n",
       "      <td>Good</td>\n",
       "      <td>F</td>\n",
       "      <td>SI2</td>\n",
       "      <td>63.8</td>\n",
       "      <td>56.0</td>\n",
       "      <td>591</td>\n",
       "      <td>4.48</td>\n",
       "      <td>4.45</td>\n",
       "      <td>2.85</td>\n",
       "    </tr>\n",
       "  </tbody>\n",
       "</table>\n",
       "</div>"
      ],
      "text/plain": [
       "       Carat        Cut Color Clarity  Depth  Table  Price     X     Y     Z\n",
       "49849   0.56      Ideal     D     VS1   62.6   59.0   2170  5.24  5.31  3.30\n",
       "9905    1.11    Premium     H     VS1   62.3   57.0   4687  6.67  6.62  4.14\n",
       "47696   0.52      Ideal     E     VS1   60.0   56.0   1883  5.25  5.29  3.16\n",
       "11721   0.34      Ideal     E     SI1   61.8   56.0    596  4.45  4.48  2.76\n",
       "22755   2.01       Fair     H     SI2   66.7   56.0  10772  7.80  7.76  5.19\n",
       "29220   0.34      Ideal     I      IF   61.3   55.0    695  4.52  4.55  2.78\n",
       "53886   0.70       Good     D     VS2   58.0   62.0   2749  5.78  5.87  3.38\n",
       "6939    1.00       Fair     E     SI1   66.3   62.0   4140  6.27  6.06  4.09\n",
       "48868   0.78  Very Good     J     SI1   59.4   62.0   2035  6.01  6.05  3.58\n",
       "10061   0.35       Good     F     SI2   63.8   56.0    591  4.48  4.45  2.85"
      ]
     },
     "execution_count": 6,
     "metadata": {},
     "output_type": "execute_result"
    }
   ],
   "source": [
    "no_outlier_df = new_diamond_df[(new_diamond_df['Carat'] > 0) & (new_diamond_df['Depth'] > 0) & (new_diamond_df['Table'] > 0) & (new_diamond_df['X'] > 0) & (new_diamond_df['Y'] > 0) & (new_diamond_df['Z'] > 0)]\n",
    "no_outlier_df.sample(10, random_state=99)"
   ]
  },
  {
   "cell_type": "markdown",
   "metadata": {},
   "source": [
    "For categorical features, an outlier is defined as a value that doesn't fit the previously defined observations of a feature. There are no problematic observations. Thus, requires no changes to the dataset."
   ]
  },
  {
   "cell_type": "markdown",
   "metadata": {},
   "source": [
    "### Encoding categorical descriptive features"
   ]
  },
  {
   "cell_type": "markdown",
   "metadata": {},
   "source": [
    "To make the categorical features readable to a machine. The technique of integer encoding for all categorical features, since they all contain an obvious order to the unique observations. In doing so, the values in observations will fit the theme. Where zero represents the relatively worst value for the feature, and the highest number represent the best value for the feature."
   ]
  },
  {
   "cell_type": "markdown",
   "metadata": {},
   "source": [
    "The table below is a sample of the observations that changed to fit these conditions."
   ]
  },
  {
   "cell_type": "code",
   "execution_count": 15,
   "metadata": {},
   "outputs": [],
   "source": [
    "cleanup =  {\"Cut\": {\"Fair\": 0, \"Good\": 1, \"Very Good\": 2, \"Premium\": 3, \"Ideal\": 4},\n",
    "            \"Color\": {\"D\": 0, \"E\": 1, \"F\": 2, \"G\": 3, \"H\": 4, \"I\": 5, \"J\":6},\n",
    "            \"Clarity\": {\"I1\": 0, \"SI2\": 1, \"SI1\": 2, \"VS2\": 3, \"VS1\": 4, \"VVS2\": 5, \"VVS1\": 6, \"IF\": 7}}\n",
    "IE_diamond_df = no_outlier_df.replace(cleanup)"
   ]
  },
  {
   "cell_type": "code",
   "execution_count": 16,
   "metadata": {},
   "outputs": [
    {
     "data": {
      "text/html": [
       "<div>\n",
       "<style scoped>\n",
       "    .dataframe tbody tr th:only-of-type {\n",
       "        vertical-align: middle;\n",
       "    }\n",
       "\n",
       "    .dataframe tbody tr th {\n",
       "        vertical-align: top;\n",
       "    }\n",
       "\n",
       "    .dataframe thead th {\n",
       "        text-align: right;\n",
       "    }\n",
       "</style>\n",
       "<table border=\"1\" class=\"dataframe\">\n",
       "  <thead>\n",
       "    <tr style=\"text-align: right;\">\n",
       "      <th></th>\n",
       "      <th>Carat</th>\n",
       "      <th>Cut</th>\n",
       "      <th>Color</th>\n",
       "      <th>Clarity</th>\n",
       "      <th>Depth</th>\n",
       "      <th>Table</th>\n",
       "      <th>Price</th>\n",
       "      <th>X</th>\n",
       "      <th>Y</th>\n",
       "      <th>Z</th>\n",
       "    </tr>\n",
       "  </thead>\n",
       "  <tbody>\n",
       "    <tr>\n",
       "      <th>49849</th>\n",
       "      <td>0.56</td>\n",
       "      <td>4</td>\n",
       "      <td>0</td>\n",
       "      <td>4</td>\n",
       "      <td>62.6</td>\n",
       "      <td>59.0</td>\n",
       "      <td>2170</td>\n",
       "      <td>5.24</td>\n",
       "      <td>5.31</td>\n",
       "      <td>3.30</td>\n",
       "    </tr>\n",
       "    <tr>\n",
       "      <th>9905</th>\n",
       "      <td>1.11</td>\n",
       "      <td>3</td>\n",
       "      <td>4</td>\n",
       "      <td>4</td>\n",
       "      <td>62.3</td>\n",
       "      <td>57.0</td>\n",
       "      <td>4687</td>\n",
       "      <td>6.67</td>\n",
       "      <td>6.62</td>\n",
       "      <td>4.14</td>\n",
       "    </tr>\n",
       "    <tr>\n",
       "      <th>47696</th>\n",
       "      <td>0.52</td>\n",
       "      <td>4</td>\n",
       "      <td>1</td>\n",
       "      <td>4</td>\n",
       "      <td>60.0</td>\n",
       "      <td>56.0</td>\n",
       "      <td>1883</td>\n",
       "      <td>5.25</td>\n",
       "      <td>5.29</td>\n",
       "      <td>3.16</td>\n",
       "    </tr>\n",
       "    <tr>\n",
       "      <th>11721</th>\n",
       "      <td>0.34</td>\n",
       "      <td>4</td>\n",
       "      <td>1</td>\n",
       "      <td>2</td>\n",
       "      <td>61.8</td>\n",
       "      <td>56.0</td>\n",
       "      <td>596</td>\n",
       "      <td>4.45</td>\n",
       "      <td>4.48</td>\n",
       "      <td>2.76</td>\n",
       "    </tr>\n",
       "    <tr>\n",
       "      <th>22755</th>\n",
       "      <td>2.01</td>\n",
       "      <td>0</td>\n",
       "      <td>4</td>\n",
       "      <td>1</td>\n",
       "      <td>66.7</td>\n",
       "      <td>56.0</td>\n",
       "      <td>10772</td>\n",
       "      <td>7.80</td>\n",
       "      <td>7.76</td>\n",
       "      <td>5.19</td>\n",
       "    </tr>\n",
       "    <tr>\n",
       "      <th>29220</th>\n",
       "      <td>0.34</td>\n",
       "      <td>4</td>\n",
       "      <td>5</td>\n",
       "      <td>7</td>\n",
       "      <td>61.3</td>\n",
       "      <td>55.0</td>\n",
       "      <td>695</td>\n",
       "      <td>4.52</td>\n",
       "      <td>4.55</td>\n",
       "      <td>2.78</td>\n",
       "    </tr>\n",
       "    <tr>\n",
       "      <th>53886</th>\n",
       "      <td>0.70</td>\n",
       "      <td>1</td>\n",
       "      <td>0</td>\n",
       "      <td>3</td>\n",
       "      <td>58.0</td>\n",
       "      <td>62.0</td>\n",
       "      <td>2749</td>\n",
       "      <td>5.78</td>\n",
       "      <td>5.87</td>\n",
       "      <td>3.38</td>\n",
       "    </tr>\n",
       "    <tr>\n",
       "      <th>6939</th>\n",
       "      <td>1.00</td>\n",
       "      <td>0</td>\n",
       "      <td>1</td>\n",
       "      <td>2</td>\n",
       "      <td>66.3</td>\n",
       "      <td>62.0</td>\n",
       "      <td>4140</td>\n",
       "      <td>6.27</td>\n",
       "      <td>6.06</td>\n",
       "      <td>4.09</td>\n",
       "    </tr>\n",
       "    <tr>\n",
       "      <th>48868</th>\n",
       "      <td>0.78</td>\n",
       "      <td>2</td>\n",
       "      <td>6</td>\n",
       "      <td>2</td>\n",
       "      <td>59.4</td>\n",
       "      <td>62.0</td>\n",
       "      <td>2035</td>\n",
       "      <td>6.01</td>\n",
       "      <td>6.05</td>\n",
       "      <td>3.58</td>\n",
       "    </tr>\n",
       "    <tr>\n",
       "      <th>10061</th>\n",
       "      <td>0.35</td>\n",
       "      <td>1</td>\n",
       "      <td>2</td>\n",
       "      <td>1</td>\n",
       "      <td>63.8</td>\n",
       "      <td>56.0</td>\n",
       "      <td>591</td>\n",
       "      <td>4.48</td>\n",
       "      <td>4.45</td>\n",
       "      <td>2.85</td>\n",
       "    </tr>\n",
       "  </tbody>\n",
       "</table>\n",
       "</div>"
      ],
      "text/plain": [
       "       Carat  Cut  Color  Clarity  Depth  Table  Price     X     Y     Z\n",
       "49849   0.56    4      0        4   62.6   59.0   2170  5.24  5.31  3.30\n",
       "9905    1.11    3      4        4   62.3   57.0   4687  6.67  6.62  4.14\n",
       "47696   0.52    4      1        4   60.0   56.0   1883  5.25  5.29  3.16\n",
       "11721   0.34    4      1        2   61.8   56.0    596  4.45  4.48  2.76\n",
       "22755   2.01    0      4        1   66.7   56.0  10772  7.80  7.76  5.19\n",
       "29220   0.34    4      5        7   61.3   55.0    695  4.52  4.55  2.78\n",
       "53886   0.70    1      0        3   58.0   62.0   2749  5.78  5.87  3.38\n",
       "6939    1.00    0      1        2   66.3   62.0   4140  6.27  6.06  4.09\n",
       "48868   0.78    2      6        2   59.4   62.0   2035  6.01  6.05  3.58\n",
       "10061   0.35    1      2        1   63.8   56.0    591  4.48  4.45  2.85"
      ]
     },
     "execution_count": 16,
     "metadata": {},
     "output_type": "execute_result"
    }
   ],
   "source": [
    "IE_diamond_df.sample(10, random_state=99)"
   ]
  },
  {
   "cell_type": "code",
   "execution_count": 19,
   "metadata": {},
   "outputs": [
    {
     "data": {
      "text/plain": [
       "1.1165789562471964"
      ]
     },
     "execution_count": 19,
     "metadata": {},
     "output_type": "execute_result"
    }
   ],
   "source": [
    "IE_diamond_df[\"Cut\"].()"
   ]
  },
  {
   "cell_type": "markdown",
   "metadata": {},
   "source": [
    "## Data Exploration and Visualisation\n",
    "\n",
    "Our dataset is now considered to be clean and we are ready to start visualising and explore each of the features."
   ]
  },
  {
   "cell_type": "markdown",
   "metadata": {},
   "source": [
    "### Univariate Visualisation"
   ]
  },
  {
   "cell_type": "markdown",
   "metadata": {},
   "source": [
    "#### Distribution Plot of Color\n",
    "\n",
    "We count the Color gradients to see which color has the highest count in diamonds. As we can see in Figure 1, the I gradient is the most abundant variation compared to others."
   ]
  },
  {
   "cell_type": "code",
   "execution_count": 8,
   "metadata": {},
   "outputs": [
    {
     "data": {
      "image/png": "[encoded data removed]",
      "text/plain": [
       "<Figure size 1008x576 with 1 Axes>"
      ]
     },
     "metadata": {
      "image/png": {
       "height": 496,
       "width": 844
      }
     },
     "output_type": "display_data"
    }
   ],
   "source": [
    "plt.figure(figsize = (14,8))\n",
    "fig = sns.histplot(new_diamond_df['Color'], discrete=True)\n",
    "fig.set_xticks(new_diamond_df['Color'].unique())\n",
    "fig.set_xticklabels(['D','E','F','G','H','I','J'])\n",
    "fig = plt.title('Figure 1: Color gradient distribution for Diamonds', fontsize = 15)\n",
    "plt.show()"
   ]
  },
  {
   "cell_type": "markdown",
   "metadata": {},
   "source": [
    "#### Distribution Plot of Cut\n",
    "\n",
    "We count the Cut grades to see which cut has the highest count in diamonds. As we can see in Figure 1, the the 'Fair' cut grade is the most abundant variation compared to others."
   ]
  },
  {
   "cell_type": "code",
   "execution_count": 9,
   "metadata": {},
   "outputs": [
    {
     "data": {
      "image/png": "[encoded data removed]",
      "text/plain": [
       "<Figure size 1008x576 with 1 Axes>"
      ]
     },
     "metadata": {
      "image/png": {
       "height": 496,
       "width": 844
      }
     },
     "output_type": "display_data"
    }
   ],
   "source": [
    "plt.figure(figsize = (14,8))\n",
    "fig = sns.histplot(new_diamond_df['Cut'], discrete=True)\n",
    "fig.set_xticks(new_diamond_df['Cut'].unique())\n",
    "fig.set_xticklabels(['Fair','Good','Very Good','Premium','Ideal'])\n",
    "fig = plt.title('Figure 2: Cut grade distribution for Diamonds', fontsize = 15)\n",
    "plt.show()"
   ]
  },
  {
   "cell_type": "markdown",
   "metadata": {},
   "source": [
    "#### Boxplot of Clarity\n",
    "\n",
    "The boxplot demonstrates the deviation in Clarities in diamonds. From the results, we can get that Clarities of SI1, VS2, and VS1 are most common.\n",
    "\n",
    "Boxplot legend:\n",
    "- 1 -> I1 (worst)\n",
    "- 2 -> SI2\n",
    "- 3 -> SI1\n",
    "- 4 -> VS2\n",
    "- 5 -> VS1\n",
    "- 6 -> VVS2\n",
    "- 7 -> VVS1\n",
    "- 8 -> IF (best)"
   ]
  },
  {
   "cell_type": "code",
   "execution_count": 10,
   "metadata": {},
   "outputs": [
    {
     "data": {
      "image/png": "[encoded data removed]",
      "text/plain": [
       "<Figure size 1008x432 with 1 Axes>"
      ]
     },
     "metadata": {
      "image/png": {
       "height": 388,
       "width": 795
      }
     },
     "output_type": "display_data"
    }
   ],
   "source": [
    "plt.figure(figsize = (14,6))\n",
    "b1_df = new_diamond_df.copy()\n",
    "\n",
    "b1_df.Clarity[b1_df.Clarity == 'I1'] = 1\n",
    "b1_df.Clarity[b1_df.Clarity == 'SI2'] = 2\n",
    "b1_df.Clarity[b1_df.Clarity == 'SI1'] = 3\n",
    "b1_df.Clarity[b1_df.Clarity == 'VS2'] = 4\n",
    "b1_df.Clarity[b1_df.Clarity == 'VS1'] = 5\n",
    "b1_df.Clarity[b1_df.Clarity == 'VVS2'] = 6\n",
    "b1_df.Clarity[b1_df.Clarity == 'VVS1'] = 7\n",
    "b1_df.Clarity[b1_df.Clarity == 'IF'] = 8\n",
    "\n",
    "fig = sns.boxplot(b1_df['Clarity']).set_title('Figure 3: Box Plot of Clarity', fontsize = 15)\n",
    "plt.show()"
   ]
  },
  {
   "cell_type": "markdown",
   "metadata": {},
   "source": [
    "## Summary and Conclusions"
   ]
  },
  {
   "cell_type": "markdown",
   "metadata": {},
   "source": [
    "> YEEEEEEEEEEEEEEE"
   ]
  },
  {
   "cell_type": "markdown",
   "metadata": {},
   "source": [
    "## References"
   ]
  },
  {
   "cell_type": "markdown",
   "metadata": {},
   "source": [
    "- Agrawal, S.. Diamonds (Kaggle). Retrieved September 26, 2022 from https://www.kaggle.com/datasets/shivam2503/diamonds"
   ]
  }
 ],
 "metadata": {
  "colab": {
   "collapsed_sections": [],
   "provenance": []
  },
  "kernelspec": {
   "display_name": "Python 3.9.12 ('base')",
   "language": "python",
   "name": "python3"
  },
  "language_info": {
   "codemirror_mode": {
    "name": "ipython",
    "version": 3
   },
   "file_extension": ".py",
   "mimetype": "text/x-python",
   "name": "python",
   "nbconvert_exporter": "python",
   "pygments_lexer": "ipython3",
   "version": "3.9.12"
  },
  "vscode": {
   "interpreter": {
    "hash": "b4b143841983770d84c176b1c8a7e0132d51e8f6de409b808c1e8da94e3c5037"
   }
  }
 },
 "nbformat": 4,
 "nbformat_minor": 1
}
